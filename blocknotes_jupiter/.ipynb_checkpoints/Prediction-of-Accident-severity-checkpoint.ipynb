{
 "cells": [
  {
   "cell_type": "markdown",
   "id": "e6b4c2ca",
   "metadata": {
    "papermill": {
     "duration": 0.032779,
     "end_time": "2022-03-21T16:52:08.660342",
     "exception": false,
     "start_time": "2022-03-21T16:52:08.627563",
     "status": "completed"
    },
    "tags": []
   },
   "source": [
    "# CASUALTY SEVERITY PREDICTION IN ACCIDENT USING MACHINE LEARNING"
   ]
  },
  {
   "cell_type": "markdown",
   "id": "a918218c",
   "metadata": {},
   "source": [
    "## Table of Contents:¶\n",
    "### 1-Business Objective and Context\n",
    "### 2-Data Loading and Selection\n",
    "### 3-Building the Models and Evaluation\n",
    "### 4-Conclusion and Discussion of Results\n",
    "### 5-Future Model Improvements and Business Scenario"
   ]
  },
  {
   "cell_type": "markdown",
   "id": "fe676376",
   "metadata": {},
   "source": [
    "## 1. Business Objective and Context:\n",
    "We want to build a model that predicts severe casaulty in road accidents. With the help of this model NHS (National Health Service) will be able to provide predictive care for severe causality based on daily fatal accidents severity with proper care and equipment's needed for their care. By generating this model healthcare systems can accomplish goals to give proper treatment to the patients in need and will increase a quality of care by eliminating care disparities.\n",
    "\n",
    "This model will use number of severe patients per day('casualty severity') as a target variable.\n"
   ]
  },
  {
   "cell_type": "markdown",
   "id": "3051d491",
   "metadata": {
    "papermill": {
     "duration": 0.030952,
     "end_time": "2022-03-21T16:52:08.849101",
     "exception": false,
     "start_time": "2022-03-21T16:52:08.818149",
     "status": "completed"
    },
    "tags": []
   },
   "source": [
    "## 2.0 Data Loading and Selection\n",
    "### 2.1 Loading Libraries"
   ]
  },
  {
   "cell_type": "code",
   "execution_count": 1,
   "id": "c27c183e",
   "metadata": {
    "execution": {
     "iopub.execute_input": "2022-03-21T16:52:08.919637Z",
     "iopub.status.busy": "2022-03-21T16:52:08.917743Z",
     "iopub.status.idle": "2022-03-21T16:52:09.913129Z",
     "shell.execute_reply": "2022-03-21T16:52:09.912222Z",
     "shell.execute_reply.started": "2022-03-21T16:48:22.904580Z"
    },
    "papermill": {
     "duration": 1.032762,
     "end_time": "2022-03-21T16:52:09.913327",
     "exception": false,
     "start_time": "2022-03-21T16:52:08.880565",
     "status": "completed"
    },
    "tags": []
   },
   "outputs": [],
   "source": [
    "import pyodbc\n",
    "import pandas as pd\n",
    "import numpy as np\n",
    "import matplotlib as mpl, matplotlib.pyplot as plt\n",
    "import datetime as dt\n",
    "import seaborn as sns\n",
    "from sklearn.ensemble import RandomForestClassifier\n",
    "from sklearn import metrics\n",
    "from sklearn.metrics import confusion_matrix\n",
    "from sklearn.metrics import classification_report\n",
    "import warnings\n",
    "warnings.filterwarnings('ignore')"
   ]
  },
  {
   "cell_type": "markdown",
   "id": "4bf64bde",
   "metadata": {
    "papermill": {
     "duration": 0.031537,
     "end_time": "2022-03-21T16:52:09.980669",
     "exception": false,
     "start_time": "2022-03-21T16:52:09.949132",
     "status": "completed"
    },
    "tags": []
   },
   "source": [
    "### 2.2 Connect to the database Projet3 in SSMS"
   ]
  },
  {
   "cell_type": "code",
   "execution_count": 2,
   "id": "bb2bd4a2",
   "metadata": {
    "execution": {
     "iopub.execute_input": "2022-03-21T16:52:10.051760Z",
     "iopub.status.busy": "2022-03-21T16:52:10.050955Z",
     "iopub.status.idle": "2022-03-21T16:52:24.644381Z",
     "shell.execute_reply": "2022-03-21T16:52:24.643585Z",
     "shell.execute_reply.started": "2022-03-21T16:48:22.917095Z"
    },
    "papermill": {
     "duration": 14.631698,
     "end_time": "2022-03-21T16:52:24.644539",
     "exception": false,
     "start_time": "2022-03-21T16:52:10.012841",
     "status": "completed"
    },
    "tags": []
   },
   "outputs": [],
   "source": [
    "DWConnect = pyodbc.connect('Driver={SQL Server};'\n",
    "                      'Server=SAMET;'\n",
    "                      'Database=Projet3;'\n",
    "                      'Trusted_Connection=yes;')\n",
    "cursor_Dim = DWConnect.cursor()"
   ]
  },
  {
   "cell_type": "markdown",
   "id": "7e608f24",
   "metadata": {
    "papermill": {
     "duration": 0.031537,
     "end_time": "2022-03-21T16:52:09.980669",
     "exception": false,
     "start_time": "2022-03-21T16:52:09.949132",
     "status": "completed"
    },
    "tags": []
   },
   "source": [
    "### 2.3 Import the dimensions and the fact tables"
   ]
  },
  {
   "cell_type": "code",
   "execution_count": 3,
   "id": "aeea2947",
   "metadata": {},
   "outputs": [],
   "source": [
    "SQL_Query = pd.read_sql_query('''select DateKey,FullDate,Year,DayOfWeek FROM [dbo].[dim_timspan]''', DWConnect)\n",
    "dim_timspan = pd.DataFrame(SQL_Query)\n",
    "SQL_Query = pd.read_sql_query('''select * FROM [dbo].[DimConditions]''', DWConnect)\n",
    "DimConditions = pd.DataFrame(SQL_Query)\n",
    "SQL_Query = pd.read_sql_query('''select * FROM [dbo].[DimLocation]''', DWConnect)\n",
    "DimLocation = pd.DataFrame(SQL_Query)\n",
    "SQL_Query = pd.read_sql_query('''select * FROM [dbo].[DimPolice]''', DWConnect)\n",
    "DimPolice = pd.DataFrame(SQL_Query)\n",
    "SQL_Query = pd.read_sql_query('''select * FROM [dbo].[DimRoad]''', DWConnect)\n",
    "DimRoad = pd.DataFrame(SQL_Query)\n",
    "SQL_Query = pd.read_sql_query('''select * FROM [dbo].[DimTypeAccidentSeverity]''', DWConnect)\n",
    "DimTypeAccidentSeverity = pd.DataFrame(SQL_Query)\n",
    "SQL_Query = pd.read_sql_query('''select * FROM [dbo].[FactAccident]''', DWConnect)\n",
    "FactAccident = pd.DataFrame(SQL_Query)"
   ]
  },
  {
   "cell_type": "code",
   "execution_count": 4,
   "id": "38bce92b",
   "metadata": {},
   "outputs": [],
   "source": [
    "def decomposefact(fact,liste_1,liste_2):\n",
    "    for i,j in enumerate(liste_1):\n",
    "        fact= pd.merge(fact,j,on=liste_2[i])\n",
    "    return fact"
   ]
  },
  {
   "cell_type": "code",
   "execution_count": 5,
   "id": "0abed7e8",
   "metadata": {},
   "outputs": [],
   "source": [
    "listetable=[dim_timspan,DimConditions,DimLocation,DimPolice,DimRoad,DimTypeAccidentSeverity]\n",
    "listeid=['DateKey','code_condition','code_location','code_police','code_road','code_severity']"
   ]
  },
  {
   "cell_type": "code",
   "execution_count": 6,
   "id": "19fbb03f",
   "metadata": {},
   "outputs": [],
   "source": [
    "Accidents=decomposefact(FactAccident,listetable,listeid)"
   ]
  },
  {
   "cell_type": "code",
   "execution_count": 7,
   "id": "7fe9d4b4",
   "metadata": {},
   "outputs": [
    {
     "data": {
      "text/plain": [
       "(1504049, 29)"
      ]
     },
     "execution_count": 7,
     "metadata": {},
     "output_type": "execute_result"
    }
   ],
   "source": [
    "Accidents.shape"
   ]
  },
  {
   "cell_type": "markdown",
   "id": "efc6d3ea",
   "metadata": {},
   "source": [
    "# Correlation matrix"
   ]
  },
  {
   "cell_type": "code",
   "execution_count": 8,
   "id": "878b597f",
   "metadata": {},
   "outputs": [
    {
     "data": {
      "text/plain": [
       "<AxesSubplot:>"
      ]
     },
     "execution_count": 8,
     "metadata": {},
     "output_type": "execute_result"
    },
    {
     "data": {
      "image/png": "[encoded data removed]",
      "text/plain": [
       "<Figure size 1080x720 with 2 Axes>"
      ]
     },
     "metadata": {
      "needs_background": "light"
     },
     "output_type": "display_data"
    }
   ],
   "source": [
    "corr = Accidents.corr()\n",
    "plt.figure(figsize=(15,10))\n",
    "sns.heatmap(corr, annot=True)   "
   ]
  },
  {
   "cell_type": "markdown",
   "id": "3f054cb4",
   "metadata": {},
   "source": [
    "# Checking the target variable coloumn"
   ]
  },
  {
   "cell_type": "code",
   "execution_count": 9,
   "id": "be82d27f",
   "metadata": {},
   "outputs": [
    {
     "data": {
      "image/png": "[encoded data removed]",
      "text/plain": [
       "<Figure size 432x288 with 1 Axes>"
      ]
     },
     "metadata": {},
     "output_type": "display_data"
    }
   ],
   "source": [
    "Accidents['Accident_Severity'].value_counts().plot.pie()\n",
    "plt.show()"
   ]
  },
  {
   "cell_type": "code",
   "execution_count": 10,
   "id": "5e96801b",
   "metadata": {},
   "outputs": [
    {
     "data": {
      "image/png": "[encoded data removed]",
      "text/plain": [
       "<Figure size 576x288 with 1 Axes>"
      ]
     },
     "metadata": {
      "needs_background": "light"
     },
     "output_type": "display_data"
    }
   ],
   "source": [
    "import seaborn as sns\n",
    "\n",
    "#Distribution of original data by targets\n",
    "\n",
    "ax = sns.countplot(x = Accidents.Accident_Severity ,palette=\"Set2\")\n",
    "sns.set(font_scale=1)\n",
    "ax.set_xlabel(' ')\n",
    "ax.set_ylabel(' ')\n",
    "fig = plt.gcf()\n",
    "fig.set_size_inches(8,4)\n",
    "for p in ax.patches:\n",
    "    ax.annotate('{:.2f}%'.format(100*p.get_height()/len(Accidents.Accident_Severity)), (p.get_x()+ 0.3, p.get_height()+10000))\n",
    "\n",
    "plt.title('Distribution of 1.5 Million Targets',)\n",
    "plt.xlabel('Accident Severity')\n",
    "plt.ylabel('Frequency [%]')\n",
    "plt.show()\n",
    "\n"
   ]
  },
  {
   "cell_type": "markdown",
   "id": "26109e22",
   "metadata": {},
   "source": [
    "Imbalanced data :A dataset with imbalanced data is one in which the target class has an unequal number of observations, We can see it clearly on this graph ploted above. one class label has a large number of observations while the other has a small number.\n",
    "\n",
    "Here we can see that Slight is high compared to serious and fatal. For our business problem we need to address issue related to the fatal and serious variables. For this reason we are using confusion matrix to understand the accuracy of each category rather than whole accuracy of the model\n"
   ]
  },
  {
   "cell_type": "markdown",
   "id": "0a736033",
   "metadata": {
    "papermill": {
     "duration": 0.033751,
     "end_time": "2022-03-21T16:52:27.410383",
     "exception": false,
     "start_time": "2022-03-21T16:52:27.376632",
     "status": "completed"
    },
    "tags": []
   },
   "source": [
    "## 3.0 Building the Models"
   ]
  },
  {
   "cell_type": "markdown",
   "id": "55d33f7c",
   "metadata": {},
   "source": [
    "### 3.1 KNN"
   ]
  },
  {
   "cell_type": "markdown",
   "id": "3d6ca592",
   "metadata": {},
   "source": [
    "The necessary libraries for the KNN"
   ]
  },
  {
   "cell_type": "code",
   "execution_count": 9,
   "id": "df85e748",
   "metadata": {},
   "outputs": [],
   "source": [
    "from sklearn.preprocessing import LabelEncoder\n",
    "from sklearn.model_selection import train_test_split\n",
    "from sklearn.neighbors import KNeighborsClassifier\n",
    "from sklearn.naive_bayes import GaussianNB\n",
    "from sklearn.metrics import accuracy_score\n",
    "from sklearn.metrics import confusion_matrix"
   ]
  },
  {
   "cell_type": "markdown",
   "id": "af5fa8ac",
   "metadata": {
    "papermill": {
     "duration": 0.033751,
     "end_time": "2022-03-21T16:52:27.410383",
     "exception": false,
     "start_time": "2022-03-21T16:52:27.376632",
     "status": "completed"
    },
    "tags": []
   },
   "source": [
    "### Setting up a dataframe with the data converted to int encoded values & facilating training"
   ]
  },
  {
   "cell_type": "markdown",
   "id": "2d77a647",
   "metadata": {},
   "source": [
    "Data science often involves categorical feature encoding, which can be accomplished in various ways, creating different results and understandings of input data. We have checked our dataset and understood that it contains floats and objects."
   ]
  },
  {
   "cell_type": "markdown",
   "id": "e30d97c6",
   "metadata": {},
   "source": [
    "### we used code_condition,Number_of_Vehicles as their lisaint with Accident_Severity like their in the  Correlation matrix"
   ]
  },
  {
   "cell_type": "code",
   "execution_count": 10,
   "id": "0b39755e",
   "metadata": {},
   "outputs": [],
   "source": [
    "Accidents_class = Accidents\n",
    "Accidents_class=Accidents_class[['code_condition','Number_of_Vehicles','Accident_Severity']]\n",
    "le = LabelEncoder()\n",
    "\n",
    "for i in Accidents_class.columns:\n",
    "    if i != 'Accident_Severity':\n",
    "        Accidents_class[i] = le.fit_transform(Accidents_class[i])"
   ]
  },
  {
   "cell_type": "markdown",
   "id": "9237d6bf",
   "metadata": {
    "papermill": {
     "duration": 0.033751,
     "end_time": "2022-03-21T16:52:27.410383",
     "exception": false,
     "start_time": "2022-03-21T16:52:27.376632",
     "status": "completed"
    },
    "tags": []
   },
   "source": [
    "#### Presenting the new dataset"
   ]
  },
  {
   "cell_type": "code",
   "execution_count": 11,
   "id": "01876374",
   "metadata": {
    "scrolled": true
   },
   "outputs": [
    {
     "data": {
      "text/html": [
       "<div>\n",
       "<style scoped>\n",
       "    .dataframe tbody tr th:only-of-type {\n",
       "        vertical-align: middle;\n",
       "    }\n",
       "\n",
       "    .dataframe tbody tr th {\n",
       "        vertical-align: top;\n",
       "    }\n",
       "\n",
       "    .dataframe thead th {\n",
       "        text-align: right;\n",
       "    }\n",
       "</style>\n",
       "<table border=\"1\" class=\"dataframe\">\n",
       "  <thead>\n",
       "    <tr style=\"text-align: right;\">\n",
       "      <th></th>\n",
       "      <th>code_condition</th>\n",
       "      <th>Number_of_Vehicles</th>\n",
       "      <th>Accident_Severity</th>\n",
       "    </tr>\n",
       "  </thead>\n",
       "  <tbody>\n",
       "    <tr>\n",
       "      <th>0</th>\n",
       "      <td>751</td>\n",
       "      <td>0</td>\n",
       "      <td>2</td>\n",
       "    </tr>\n",
       "    <tr>\n",
       "      <th>1</th>\n",
       "      <td>601</td>\n",
       "      <td>2</td>\n",
       "      <td>2</td>\n",
       "    </tr>\n",
       "    <tr>\n",
       "      <th>2</th>\n",
       "      <td>601</td>\n",
       "      <td>0</td>\n",
       "      <td>2</td>\n",
       "    </tr>\n",
       "    <tr>\n",
       "      <th>3</th>\n",
       "      <td>601</td>\n",
       "      <td>1</td>\n",
       "      <td>2</td>\n",
       "    </tr>\n",
       "    <tr>\n",
       "      <th>4</th>\n",
       "      <td>601</td>\n",
       "      <td>1</td>\n",
       "      <td>2</td>\n",
       "    </tr>\n",
       "  </tbody>\n",
       "</table>\n",
       "</div>"
      ],
      "text/plain": [
       "   code_condition  Number_of_Vehicles Accident_Severity\n",
       "0             751                   0                 2\n",
       "1             601                   2                 2\n",
       "2             601                   0                 2\n",
       "3             601                   1                 2\n",
       "4             601                   1                 2"
      ]
     },
     "execution_count": 11,
     "metadata": {},
     "output_type": "execute_result"
    }
   ],
   "source": [
    "Accidents_class.head(5)"
   ]
  },
  {
   "cell_type": "markdown",
   "id": "d582a995",
   "metadata": {},
   "source": [
    "### Converting to array, separating class from attributes"
   ]
  },
  {
   "cell_type": "code",
   "execution_count": 12,
   "id": "107c49cb",
   "metadata": {},
   "outputs": [],
   "source": [
    "Y = np.array(Accidents_class['Accident_Severity'])\n",
    "X = np.array(Accidents_class.drop(columns=['Accident_Severity']))"
   ]
  },
  {
   "cell_type": "markdown",
   "id": "c0e46c25",
   "metadata": {},
   "source": [
    "### Creating test and training set, with 70% of data for training"
   ]
  },
  {
   "cell_type": "code",
   "execution_count": 13,
   "id": "8e024610",
   "metadata": {},
   "outputs": [],
   "source": [
    "train_x, test_x, train_y, test_y = train_test_split(X, Y, test_size=0.3, random_state=42)"
   ]
  },
  {
   "cell_type": "markdown",
   "id": "2d1e0878",
   "metadata": {},
   "source": [
    "### Create a training KNN function"
   ]
  },
  {
   "cell_type": "code",
   "execution_count": 17,
   "id": "8cd11051",
   "metadata": {},
   "outputs": [],
   "source": [
    "def trainKNN(train_x, train_y, test_x, test_y, n_neighbors=1):\n",
    "    model = KNeighborsClassifier(n_neighbors=k)\n",
    "    model.fit(train_x, train_y)\n",
    "    pred_y = model.predict(test_x)\n",
    "    return accuracy_score(pred_y, test_y), confusion_matrix(test_y, pred_y)"
   ]
  },
  {
   "cell_type": "markdown",
   "id": "45d2a65f",
   "metadata": {},
   "source": [
    "### Centrage-Réduction des données (Standardisation)\n"
   ]
  },
  {
   "cell_type": "code",
   "execution_count": 17,
   "id": "a41859c0",
   "metadata": {},
   "outputs": [],
   "source": [
    "from sklearn.preprocessing import StandardScaler\n",
    "scaler = StandardScaler()\n",
    "scaler.fit(train_x)\n",
    "train_x = scaler.transform(train_x)\n",
    "test_x = scaler.transform(test_x)"
   ]
  },
  {
   "cell_type": "markdown",
   "id": "bece1e0f",
   "metadata": {},
   "source": [
    "### Phase d'apprentissage: Appliquer le modèle KNN avec les données d'apprentissage\n"
   ]
  },
  {
   "cell_type": "code",
   "execution_count": 70,
   "id": "14252bb2",
   "metadata": {},
   "outputs": [
    {
     "data": {
      "text/plain": [
       "Text(0, 0.5, 'Erreur')"
      ]
     },
     "execution_count": 70,
     "metadata": {},
     "output_type": "execute_result"
    },
    {
     "data": {
      "image/png": "[encoded data removed]",
      "text/plain": [
       "<Figure size 864x432 with 1 Axes>"
      ]
     },
     "metadata": {
      "needs_background": "light"
     },
     "output_type": "display_data"
    }
   ],
   "source": [
    "from sklearn.neighbors import KNeighborsClassifier\n",
    "\n",
    "error = []\n",
    "# Calculer l'erreur pour k entre 1 et 40 \n",
    "#Pour chaque itération, l'erreur moyenne pour les valeurs prédites \n",
    "#de l'ensemble de test est calculée et sauvegardée ds la liste Erreur.\n",
    "# Tester k de 1 à 40 et la distance Manhattan\n",
    "for i in range(1, 40):\n",
    "    knn = KNeighborsClassifier(i,metric='manhattan')\n",
    "    knn_model = knn.fit(train_x, train_y)\n",
    "    pred_i = knn_model.predict(test_x)\n",
    "    error.append(np.mean(pred_i != test_y))\n",
    "plt.figure(figsize=(12, 6))\n",
    "plt.plot(range(1, 40), error, color='red', linestyle='dashed', marker='o',\n",
    "         markerfacecolor='blue', markersize=10)\n",
    "plt.title('Taux Erreur pour les differentes valeurs de k')\n",
    "plt.xlabel('K ')\n",
    "plt.ylabel('Erreur')"
   ]
  },
  {
   "cell_type": "markdown",
   "id": "7e0f6224",
   "metadata": {},
   "source": [
    "## Training the KNN classification model, for k ranging from 1 to 8"
   ]
  },
  {
   "cell_type": "code",
   "execution_count": null,
   "id": "37995820",
   "metadata": {
    "scrolled": true
   },
   "outputs": [],
   "source": [
    "print(\"==== Accuracy for each number of neighbors ====\\n\")\n",
    "for k in range(1, 8):\n",
    "    acc, cm = trainKNN(train_x, train_y, test_x, test_y, k)\n",
    "    print(\"k = %d: %.2f%%\" % (k, 100*acc))\n",
    "    print(\"confusion matrix:\")\n",
    "    print(cm, end='\\n\\n')"
   ]
  },
  {
   "cell_type": "markdown",
   "id": "38c87dae",
   "metadata": {},
   "source": [
    "### 3.2 Naive Bayes"
   ]
  },
  {
   "cell_type": "markdown",
   "id": "712835da",
   "metadata": {},
   "source": [
    "### Create a training Naive Bayes function"
   ]
  },
  {
   "cell_type": "code",
   "execution_count": 37,
   "id": "add30487",
   "metadata": {},
   "outputs": [],
   "source": [
    "def trainNaiveBayes(train_x, train_y, test_x, test_y):\n",
    "    gnb = GaussianNB()\n",
    "    gnb.fit(train_x, train_y)\n",
    "    pred_y = gnb.predict(test_x)\n",
    "    return accuracy_score(pred_y, test_y), confusion_matrix(test_y, pred_y),pred_y"
   ]
  },
  {
   "cell_type": "markdown",
   "id": "c07e1250",
   "metadata": {},
   "source": [
    "# Training the Naive Bayes classification model"
   ]
  },
  {
   "cell_type": "code",
   "execution_count": 39,
   "id": "4a3e2d4e",
   "metadata": {},
   "outputs": [
    {
     "name": "stdout",
     "output_type": "stream",
     "text": [
      "==== Accuracy for the Naive Bayes algorithm ====\n",
      "84.64%\n",
      "confusion matrix:\n",
      "[[   117      0   5815]\n",
      " [   498      0  60689]\n",
      " [  2292      0 381804]]\n",
      "\n",
      "              precision    recall  f1-score   support\n",
      "\n",
      "           1       0.04      0.02      0.03      5932\n",
      "           2       0.00      0.00      0.00     61187\n",
      "           3       0.85      0.99      0.92    384096\n",
      "\n",
      "    accuracy                           0.85    451215\n",
      "   macro avg       0.30      0.34      0.31    451215\n",
      "weighted avg       0.73      0.85      0.78    451215\n",
      "\n"
     ]
    }
   ],
   "source": [
    "\n",
    "print(\"==== Accuracy for the Naive Bayes algorithm ====\")\n",
    "acc, cm,pred_y = trainNaiveBayes(train_x, train_y, test_x, test_y)\n",
    "print(\"%.2f%%\" % ( 100*acc))\n",
    "print(\"confusion matrix:\")\n",
    "print(cm, end='\\n\\n')\n",
    "print(classification_report(test_y, pred_y))"
   ]
  },
  {
   "cell_type": "markdown",
   "id": "10776401",
   "metadata": {},
   "source": [
    "### 3.3 decision tree "
   ]
  },
  {
   "cell_type": "markdown",
   "id": "f4049f35",
   "metadata": {},
   "source": [
    "Using a Decision Tree as a training model is the process of learning simple decision rules inferred from the training data to predict the value of a target variable. Feature-based decision trees can be used for both classifications and regressions. Their name implies that they use flowchart-like structures to represent the predictions they produce. They start with a root node and end with a decision made by leaves"
   ]
  },
  {
   "cell_type": "markdown",
   "id": "3ecd25d6",
   "metadata": {},
   "source": [
    "# Training decision tree classification model"
   ]
  },
  {
   "cell_type": "code",
   "execution_count": 21,
   "id": "5f6f68a2",
   "metadata": {},
   "outputs": [
    {
     "name": "stdout",
     "output_type": "stream",
     "text": [
      "Accuracy 85.1\n",
      "              precision    recall  f1-score   support\n",
      "\n",
      "           1   0.060606  0.000337  0.000671      5932\n",
      "           2   0.126866  0.000278  0.000554     61187\n",
      "           3   0.851253  0.999636  0.919497    384096\n",
      "\n",
      "    accuracy                       0.850980    451215\n",
      "   macro avg   0.346242  0.333417  0.306907    451215\n",
      "weighted avg   0.742628  0.850980  0.782804    451215\n",
      "\n"
     ]
    },
    {
     "data": {
      "text/html": [
       "<div>\n",
       "<style scoped>\n",
       "    .dataframe tbody tr th:only-of-type {\n",
       "        vertical-align: middle;\n",
       "    }\n",
       "\n",
       "    .dataframe tbody tr th {\n",
       "        vertical-align: top;\n",
       "    }\n",
       "\n",
       "    .dataframe thead th {\n",
       "        text-align: right;\n",
       "    }\n",
       "</style>\n",
       "<table border=\"1\" class=\"dataframe\">\n",
       "  <thead>\n",
       "    <tr style=\"text-align: right;\">\n",
       "      <th>Predicted</th>\n",
       "      <th>1</th>\n",
       "      <th>2</th>\n",
       "      <th>3</th>\n",
       "      <th>All</th>\n",
       "    </tr>\n",
       "    <tr>\n",
       "      <th>Actual</th>\n",
       "      <th></th>\n",
       "      <th></th>\n",
       "      <th></th>\n",
       "      <th></th>\n",
       "    </tr>\n",
       "  </thead>\n",
       "  <tbody>\n",
       "    <tr>\n",
       "      <th>1</th>\n",
       "      <td>2</td>\n",
       "      <td>4</td>\n",
       "      <td>5926</td>\n",
       "      <td>5932</td>\n",
       "    </tr>\n",
       "    <tr>\n",
       "      <th>2</th>\n",
       "      <td>4</td>\n",
       "      <td>17</td>\n",
       "      <td>61166</td>\n",
       "      <td>61187</td>\n",
       "    </tr>\n",
       "    <tr>\n",
       "      <th>3</th>\n",
       "      <td>27</td>\n",
       "      <td>113</td>\n",
       "      <td>383956</td>\n",
       "      <td>384096</td>\n",
       "    </tr>\n",
       "    <tr>\n",
       "      <th>All</th>\n",
       "      <td>33</td>\n",
       "      <td>134</td>\n",
       "      <td>451048</td>\n",
       "      <td>451215</td>\n",
       "    </tr>\n",
       "  </tbody>\n",
       "</table>\n",
       "</div>"
      ],
      "text/plain": [
       "Predicted   1    2       3     All\n",
       "Actual                            \n",
       "1           2    4    5926    5932\n",
       "2           4   17   61166   61187\n",
       "3          27  113  383956  384096\n",
       "All        33  134  451048  451215"
      ]
     },
     "execution_count": 21,
     "metadata": {},
     "output_type": "execute_result"
    }
   ],
   "source": [
    "from sklearn.tree import DecisionTreeClassifier\n",
    "decision_tree = DecisionTreeClassifier()\n",
    "decision_tree.fit(train_x, train_y)\n",
    "Y_pred = decision_tree.predict(test_x)\n",
    "acc_decision_tree1 = round(decision_tree.score(test_x, test_y) * 100, 2)\n",
    "sk_report = classification_report(\n",
    "    digits=6,\n",
    "    y_true=test_y, \n",
    "    y_pred=Y_pred)\n",
    "print(\"Accuracy\", acc_decision_tree1)\n",
    "print(sk_report)\n",
    "### Confusion Matrix \n",
    "pd.crosstab(test_y, Y_pred, rownames=['Actual'], colnames=['Predicted'], margins=True)"
   ]
  },
  {
   "cell_type": "markdown",
   "id": "2e822dd1",
   "metadata": {},
   "source": [
    "### Confusion Matrix - decision tree"
   ]
  },
  {
   "cell_type": "code",
   "execution_count": 22,
   "id": "4dd9f5a0",
   "metadata": {},
   "outputs": [
    {
     "data": {
      "image/png": "[encoded data removed]",
      "text/plain": [
       "<Figure size 720x432 with 2 Axes>"
      ]
     },
     "metadata": {},
     "output_type": "display_data"
    }
   ],
   "source": [
    "matrix_confusion = confusion_matrix(test_y, Y_pred)\n",
    "# set seaborn heatmap title, x-axis, y-axis label and font size\n",
    "plt.figure(figsize=(10,6))\n",
    "ax = sns.heatmap(matrix_confusion, annot=True,annot_kws={\"size\": 14}, fmt='g', cmap='Greens' )\n",
    "ax.set(title=\"Heatmap of Confusion Matrix\\n\",\n",
    "      xlabel=\"Predicted Values\",\n",
    "      ylabel=\"Actual Values\")\n",
    "ax.xaxis.set_ticklabels(decision_tree.classes_,fontsize=12) \n",
    "ax.yaxis.set_ticklabels(decision_tree .classes_,fontsize=12);\n",
    "sns.set(font_scale=1) # set fontsize 2"
   ]
  },
  {
   "cell_type": "markdown",
   "id": "abf1fe70",
   "metadata": {},
   "source": [
    "### Creating test and training set"
   ]
  },
  {
   "cell_type": "code",
   "execution_count": 33,
   "id": "9649d47a",
   "metadata": {},
   "outputs": [],
   "source": [
    "train_frame=Accidents_class\n",
    "test_frame=Accidents_class\n",
    "X_train = train_frame.drop(\"Accident_Severity\",axis=1)\n",
    "X_test = test_frame.drop(\"Accident_Severity\",axis=1)\n",
    "y_train = train_frame[\"Accident_Severity\"]\n",
    "y_test = test_frame[\"Accident_Severity\"]"
   ]
  },
  {
   "cell_type": "markdown",
   "id": "8b54dd74",
   "metadata": {},
   "source": [
    "### 3.4 Randomforest Model"
   ]
  },
  {
   "cell_type": "markdown",
   "id": "1c213d07",
   "metadata": {},
   "source": [
    "In classification and regression problems, random forests are used vastly as supervised machine learning algorithms.\n",
    "\n",
    "The random forest algorithm is an easy-to-use, flexible method of machine learning that produces a good result almost without tuning the hyperparameters. Random forest serves both classification and regression purposes, which is one of its main advantages. Here we have a classification problem due to fact that our traget varible has three classes.By utilizing a random subset of features for splitting each node, trees can even be made to appear more random by additionally using random thresholds for each feature rather than looking for the best threshold possible.\n"
   ]
  },
  {
   "cell_type": "markdown",
   "id": "d00747f6",
   "metadata": {},
   "source": [
    "# Training random forest classification model"
   ]
  },
  {
   "cell_type": "code",
   "execution_count": 36,
   "id": "27016795",
   "metadata": {},
   "outputs": [
    {
     "name": "stdout",
     "output_type": "stream",
     "text": [
      "Accuracy: 85.12 %\n",
      "              precision    recall  f1-score   support\n",
      "\n",
      "           1   0.833333  0.001800  0.003593     19441\n",
      "           2   0.777778  0.001061  0.002119    204488\n",
      "           3   0.851255  0.999950  0.919631   1280120\n",
      "\n",
      "    accuracy                       0.851241   1504049\n",
      "   macro avg   0.820789  0.334271  0.308448   1504049\n",
      "weighted avg   0.841034  0.851241  0.783047   1504049\n",
      "\n"
     ]
    },
    {
     "data": {
      "text/html": [
       "<div>\n",
       "<style scoped>\n",
       "    .dataframe tbody tr th:only-of-type {\n",
       "        vertical-align: middle;\n",
       "    }\n",
       "\n",
       "    .dataframe tbody tr th {\n",
       "        vertical-align: top;\n",
       "    }\n",
       "\n",
       "    .dataframe thead th {\n",
       "        text-align: right;\n",
       "    }\n",
       "</style>\n",
       "<table border=\"1\" class=\"dataframe\">\n",
       "  <thead>\n",
       "    <tr style=\"text-align: right;\">\n",
       "      <th>Predicted</th>\n",
       "      <th>1</th>\n",
       "      <th>2</th>\n",
       "      <th>3</th>\n",
       "      <th>All</th>\n",
       "    </tr>\n",
       "    <tr>\n",
       "      <th>Actual</th>\n",
       "      <th></th>\n",
       "      <th></th>\n",
       "      <th></th>\n",
       "      <th></th>\n",
       "    </tr>\n",
       "  </thead>\n",
       "  <tbody>\n",
       "    <tr>\n",
       "      <th>1</th>\n",
       "      <td>35</td>\n",
       "      <td>4</td>\n",
       "      <td>19402</td>\n",
       "      <td>19441</td>\n",
       "    </tr>\n",
       "    <tr>\n",
       "      <th>2</th>\n",
       "      <td>1</td>\n",
       "      <td>217</td>\n",
       "      <td>204270</td>\n",
       "      <td>204488</td>\n",
       "    </tr>\n",
       "    <tr>\n",
       "      <th>3</th>\n",
       "      <td>6</td>\n",
       "      <td>58</td>\n",
       "      <td>1280056</td>\n",
       "      <td>1280120</td>\n",
       "    </tr>\n",
       "    <tr>\n",
       "      <th>All</th>\n",
       "      <td>42</td>\n",
       "      <td>279</td>\n",
       "      <td>1503728</td>\n",
       "      <td>1504049</td>\n",
       "    </tr>\n",
       "  </tbody>\n",
       "</table>\n",
       "</div>"
      ],
      "text/plain": [
       "Predicted   1    2        3      All\n",
       "Actual                              \n",
       "1          35    4    19402    19441\n",
       "2           1  217   204270   204488\n",
       "3           6   58  1280056  1280120\n",
       "All        42  279  1503728  1504049"
      ]
     },
     "execution_count": 36,
     "metadata": {},
     "output_type": "execute_result"
    }
   ],
   "source": [
    "random_forest_classifier = RandomForestClassifier(random_state=42)\n",
    "random_forest_classifier.fit(X_train,y_train)\n",
    "# Testing the model\n",
    "y_pred=random_forest_classifier.predict(X_test)\n",
    "# Model evaluvation\n",
    "print(\"Accuracy:\",round(metrics.accuracy_score(y_test, y_pred)* 100,2),\"%\")\n",
    "sk_report = classification_report(\n",
    "    digits=6,\n",
    "    y_true=y_test, \n",
    "    y_pred=y_pred)\n",
    "print(sk_report)\n",
    "pd.crosstab(y_test, y_pred, rownames=['Actual'], colnames=['Predicted'], margins=True)"
   ]
  },
  {
   "cell_type": "markdown",
   "id": "5ce46eb9",
   "metadata": {},
   "source": [
    "### Confusion Matrix - Random Forest"
   ]
  },
  {
   "cell_type": "code",
   "execution_count": 29,
   "id": "4095ef27",
   "metadata": {},
   "outputs": [
    {
     "data": {
      "image/png": "[encoded data removed]",
      "text/plain": [
       "<Figure size 720x432 with 2 Axes>"
      ]
     },
     "metadata": {},
     "output_type": "display_data"
    }
   ],
   "source": [
    "matrix_confusion = confusion_matrix(y_test, y_pred)\n",
    "# set seaborn heatmap title, x-axis, y-axis label and font size\n",
    "plt.figure(figsize=(10,6))\n",
    "ax = sns.heatmap(matrix_confusion, annot=True,annot_kws={\"size\": 14}, fmt='g', cmap='Greens' )\n",
    "ax.set(title=\"Heatmap of Confusion Matrix\\n\",\n",
    "      xlabel=\"Predicted Values\",\n",
    "      ylabel=\"Actual Values\")\n",
    "ax.xaxis.set_ticklabels(random_forest_classifier.classes_,fontsize=12) \n",
    "ax.yaxis.set_ticklabels(random_forest_classifier.classes_,fontsize=12);\n",
    "sns.set(font_scale=1) # set fontsize 2"
   ]
  },
  {
   "cell_type": "markdown",
   "id": "3eadeacb",
   "metadata": {},
   "source": [
    "## We have a very high accuracy but we have to check the model in depth due to the fact that our dataset is unbalanced. For that we need to check Precision,Recall and F1 Score\n",
    "\n"
   ]
  },
  {
   "cell_type": "markdown",
   "id": "27311df3",
   "metadata": {},
   "source": [
    "# 4-Conclusion and Discussion of Results"
   ]
  },
  {
   "cell_type": "markdown",
   "id": "d6f6b970",
   "metadata": {},
   "source": [
    "## 4.1 Discussion of Results"
   ]
  },
  {
   "cell_type": "markdown",
   "id": "3752efbc",
   "metadata": {},
   "source": [
    "### Checking the Precision, Recall, F1-Score "
   ]
  },
  {
   "cell_type": "markdown",
   "id": "5e8de115",
   "metadata": {},
   "source": [
    " Precision = (TP/TP+FP) Precision is a measure of how many of the positive predictions made are correct (true positives).\n",
    " \n",
    "\n",
    "Recall = (TP/TP+FN) Recall is a measure of how many of the positive cases the classifier correctly predicted, over all the positive cases in the data. \n",
    "\n",
    "F1 Score = 2*(Precision*Recall/Precision+Recall) F1-Score is a measure combining both precision and recall. It is generally described as the harmonic mean of the two.\n",
    "\n",
    "\n",
    "By checking we will be knowing more about the fatal=3, serious=2 and slight=1 accident"
   ]
  },
  {
   "cell_type": "code",
   "execution_count": null,
   "id": "3616d719",
   "metadata": {},
   "outputs": [],
   "source": [
    "|Model Type| ProbDistribution | Accuracy |\n",
    "| --- | --- | --- |\n",
    "| Stretched | Gaussian | .843 |"
   ]
  },
  {
   "cell_type": "markdown",
   "id": "87e12944",
   "metadata": {},
   "source": [
    "## 4.2 Conclusion"
   ]
  },
  {
   "cell_type": "markdown",
   "id": "f011db1e",
   "metadata": {},
   "source": [
    "All models correctly predicted the data and the model accuracy was high as a result of the best practices we used for data cleaning, transformation and understanding. All machine learning models were trained successfully. Among the models we can comparee the accuracy values as follows\n",
    "\n",
    "As a result of comparing the accuracy, we conclude that Random Forest is the best model. Normally random forest performance better for the catergorical values. This ability outperformed KNN,Naive Bayes and Decision tree models.\n",
    "\n",
    "We need to compare the Precision, Recall, and F1-score to make the final decision due to the unbalanced data set\n",
    "\n",
    "We can see that the Recall value of the Random forest is 0.85 and precision is 0.84. From these results we can finalise that the random forest model is the best model\n",
    "\n",
    "If we could find a dataset with more values of fatal in the Casualty_Severity column, then we would get better results with the models and you would not have to deal with the issue of unbalanced data.\n"
   ]
  },
  {
   "cell_type": "markdown",
   "id": "9933e1a9",
   "metadata": {},
   "source": [
    "# 5-Future Model Improvements and Business Scenario"
   ]
  },
  {
   "cell_type": "markdown",
   "id": "572b4a61",
   "metadata": {},
   "source": [
    "A model like ours can help the NHS improve their service. It can predict the severity of causalities in an accident. At present, the NHS measures casualty severity manually, and manual inputs are often biased. It clearly depends on the individual. Gender, age, status, and many other factors are taken into consideration by some people. But ML models are not biased and we are getting an accuracy of 85.12%. We can avoid human error by using this model and help the NHS to gauge the severity of casualties.\n",
    "\n",
    "In future we can use this model to predict the casualty severity and notify the nearby hospitals about the accident. During the accident treatment main delays happens for the preparation of the operation theatre (OT). It is important for the doctor or medical staff to be informed as soon as possible about the casualty severity in order to start preparations for OT. During an accident, seconds can make a difference to the life and recovery of the person involved. Our Machine Learning model can predict this from the variables of the accident situation. Informing the hospitals of the accident, the seriousness of the casualties, and their location is important in helping the doctors provide better care. In this way, hospitals will be able to prepare their OTs and start treating patients immediately after their arrival. It has the potential to save thousands of lives if it is implemented into a proper system by a software or web application."
   ]
  }
 ],
 "metadata": {
  "kernelspec": {
   "display_name": "Python 3 (ipykernel)",
   "language": "python",
   "name": "python3"
  },
  "language_info": {
   "codemirror_mode": {
    "name": "ipython",
    "version": 3
   },
   "file_extension": ".py",
   "mimetype": "text/x-python",
   "name": "python",
   "nbconvert_exporter": "python",
   "pygments_lexer": "ipython3",
   "version": "3.9.12"
  },
  "papermill": {
   "default_parameters": {},
   "duration": 59.47334,
   "end_time": "2022-03-21T16:52:57.156829",
   "environment_variables": {},
   "exception": null,
   "input_path": "__notebook__.ipynb",
   "output_path": "__notebook__.ipynb",
   "parameters": {},
   "start_time": "2022-03-21T16:51:57.683489",
   "version": "2.3.3"
  }
 },
 "nbformat": 4,
 "nbformat_minor": 5
}
