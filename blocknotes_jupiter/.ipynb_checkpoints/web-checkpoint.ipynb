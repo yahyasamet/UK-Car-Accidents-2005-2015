{
 "cells": [
  {
   "cell_type": "code",
   "execution_count": 1,
   "id": "0ddc96c0",
   "metadata": {},
   "outputs": [],
   "source": [
    "import pyodbc\n",
    "import pandas as pd\n",
    "import numpy as np\n",
    "import matplotlib as mpl, matplotlib.pyplot as plt\n",
    "import seaborn as sns\n",
    "from sklearn import metrics\n",
    "from sklearn.metrics import classification_report\n",
    "from imblearn.combine import SMOTEENN \n",
    "import warnings\n",
    "warnings.filterwarnings('ignore')"
   ]
  },
  {
   "cell_type": "code",
   "execution_count": 2,
   "id": "b004cfd4",
   "metadata": {},
   "outputs": [],
   "source": [
    "DWConnect = pyodbc.connect('Driver={SQL Server};'\n",
    "                      'Server=SAMET;'\n",
    "                      'Database=Projet3;'\n",
    "                      'Trusted_Connection=yes;')\n",
    "cursor_Dim = DWConnect.cursor()"
   ]
  },
  {
   "cell_type": "code",
   "execution_count": 3,
   "id": "05f91c9a",
   "metadata": {},
   "outputs": [],
   "source": [
    "SQL_Query = pd.read_sql_query('''select * FROM [dbo].[DimConditions]''', DWConnect)\n",
    "DimConditions = pd.DataFrame(SQL_Query)\n",
    "SQL_Query = pd.read_sql_query('''select * FROM [dbo].[DimTypeAccidentSeverity]''', DWConnect)\n",
    "DimTypeAccidentSeverity = pd.DataFrame(SQL_Query)\n",
    "SQL_Query = pd.read_sql_query('''select * FROM [dbo].[FactAccident]''', DWConnect)\n",
    "FactAccident = pd.DataFrame(SQL_Query)"
   ]
  },
  {
   "cell_type": "code",
   "execution_count": 4,
   "id": "1b802959",
   "metadata": {},
   "outputs": [],
   "source": [
    "def decomposefact(fact,liste_1,liste_2):\n",
    "    for i,j in enumerate(liste_1):\n",
    "        fact= pd.merge(fact,j,on=liste_2[i])\n",
    "    return fact"
   ]
  },
  {
   "cell_type": "code",
   "execution_count": 5,
   "id": "c8f7fd02",
   "metadata": {},
   "outputs": [],
   "source": [
    "listetable=[DimConditions,DimTypeAccidentSeverity]\n",
    "listeid=['code_condition','code_severity']"
   ]
  },
  {
   "cell_type": "code",
   "execution_count": 6,
   "id": "947956c2",
   "metadata": {},
   "outputs": [],
   "source": [
    "Accidents=decomposefact(FactAccident,listetable,listeid)"
   ]
  },
  {
   "cell_type": "code",
   "execution_count": 7,
   "id": "52406ab7",
   "metadata": {},
   "outputs": [],
   "source": [
    "from sklearn.preprocessing import LabelEncoder\n",
    "from sklearn.model_selection import train_test_split\n",
    "from sklearn.metrics import accuracy_score\n",
    "from sklearn.ensemble import RandomForestClassifier"
   ]
  },
  {
   "cell_type": "code",
   "execution_count": 8,
   "id": "d8a4a5f3",
   "metadata": {},
   "outputs": [],
   "source": [
    "Accidents_class = Accidents\n",
    "Accidents_class=Accidents_class[[ 'Light_Conditions'\n",
    "      ,'Weather_Conditions'\n",
    "      ,'Road_Surface_Conditions'\n",
    "      ,'Special_Conditions_at_Site','Number_of_Vehicles','Accident_Severity']]\n",
    "le = LabelEncoder()\n",
    "\n",
    "for i in Accidents_class.columns:\n",
    "    if i != 'Accident_Severity':\n",
    "        Accidents_class[i] = le.fit_transform(Accidents_class[i])"
   ]
  },
  {
   "cell_type": "code",
   "execution_count": 9,
   "id": "7928992c",
   "metadata": {},
   "outputs": [],
   "source": [
    "sme = SMOTEENN()"
   ]
  },
  {
   "cell_type": "code",
   "execution_count": 10,
   "id": "29fc1128",
   "metadata": {},
   "outputs": [],
   "source": [
    "train_frame=Accidents_class\n",
    "test_frame=Accidents_class\n",
    "X_train = train_frame.drop(\"Accident_Severity\",axis=1)\n",
    "X_test = test_frame.drop(\"Accident_Severity\",axis=1)\n",
    "y_train = train_frame[\"Accident_Severity\"]\n",
    "y_test = test_frame[\"Accident_Severity\"]"
   ]
  },
  {
   "cell_type": "code",
   "execution_count": 10,
   "id": "41234839",
   "metadata": {},
   "outputs": [
    {
     "ename": "NameError",
     "evalue": "name 'X_train' is not defined",
     "output_type": "error",
     "traceback": [
      "\u001b[1;31m---------------------------------------------------------------------------\u001b[0m",
      "\u001b[1;31mNameError\u001b[0m                                 Traceback (most recent call last)",
      "Input \u001b[1;32mIn [10]\u001b[0m, in \u001b[0;36m<cell line: 2>\u001b[1;34m()\u001b[0m\n\u001b[0;32m      1\u001b[0m random_forest_classifier \u001b[38;5;241m=\u001b[39m RandomForestClassifier(random_state\u001b[38;5;241m=\u001b[39m\u001b[38;5;241m42\u001b[39m)\n\u001b[1;32m----> 2\u001b[0m sme\u001b[38;5;241m.\u001b[39mfit(\u001b[43mX_train\u001b[49m,y_train)\n\u001b[0;32m      3\u001b[0m \u001b[38;5;66;03m# Testing the model\u001b[39;00m\n\u001b[0;32m      4\u001b[0m y_pred\u001b[38;5;241m=\u001b[39mrandom_forest_classifier\u001b[38;5;241m.\u001b[39mpredict(X_test)\n",
      "\u001b[1;31mNameError\u001b[0m: name 'X_train' is not defined"
     ]
    }
   ],
   "source": [
    "random_forest_classifier = RandomForestClassifier(random_state=42)\n",
    "random_forest_classifier.fit(X_train,y_train)\n",
    "# Testing the model\n",
    "y_pred=random_forest_classifier.predict(X_test)\n"
   ]
  },
  {
   "cell_type": "code",
   "execution_count": 12,
   "id": "51c5b58a",
   "metadata": {},
   "outputs": [
    {
     "data": {
      "text/plain": [
       "0.8512408837743983"
      ]
     },
     "execution_count": 12,
     "metadata": {},
     "output_type": "execute_result"
    }
   ],
   "source": [
    "# Model evaluvation\n",
    "accuracy_score(y_test, y_pred)"
   ]
  },
  {
   "cell_type": "code",
   "execution_count": 13,
   "id": "3bf4989a",
   "metadata": {},
   "outputs": [],
   "source": [
    "from joblib import  dump"
   ]
  },
  {
   "cell_type": "code",
   "execution_count": 14,
   "id": "53e1fac1",
   "metadata": {},
   "outputs": [
    {
     "ename": "FileNotFoundError",
     "evalue": "[Errno 2] No such file or directory: './../savedModeles/model.joblib'",
     "output_type": "error",
     "traceback": [
      "\u001b[1;31m---------------------------------------------------------------------------\u001b[0m",
      "\u001b[1;31mFileNotFoundError\u001b[0m                         Traceback (most recent call last)",
      "Input \u001b[1;32mIn [14]\u001b[0m, in \u001b[0;36m<cell line: 1>\u001b[1;34m()\u001b[0m\n\u001b[1;32m----> 1\u001b[0m \u001b[43mdump\u001b[49m\u001b[43m(\u001b[49m\u001b[43mrandom_forest_classifier\u001b[49m\u001b[43m,\u001b[49m\u001b[38;5;124;43m'\u001b[39;49m\u001b[38;5;124;43m./../savedModeles/model.joblib\u001b[39;49m\u001b[38;5;124;43m'\u001b[39;49m\u001b[43m)\u001b[49m\n",
      "File \u001b[1;32m~\\anaconda3\\lib\\site-packages\\joblib\\numpy_pickle.py:481\u001b[0m, in \u001b[0;36mdump\u001b[1;34m(value, filename, compress, protocol, cache_size)\u001b[0m\n\u001b[0;32m    479\u001b[0m         NumpyPickler(f, protocol\u001b[38;5;241m=\u001b[39mprotocol)\u001b[38;5;241m.\u001b[39mdump(value)\n\u001b[0;32m    480\u001b[0m \u001b[38;5;28;01melif\u001b[39;00m is_filename:\n\u001b[1;32m--> 481\u001b[0m     \u001b[38;5;28;01mwith\u001b[39;00m \u001b[38;5;28;43mopen\u001b[39;49m\u001b[43m(\u001b[49m\u001b[43mfilename\u001b[49m\u001b[43m,\u001b[49m\u001b[43m \u001b[49m\u001b[38;5;124;43m'\u001b[39;49m\u001b[38;5;124;43mwb\u001b[39;49m\u001b[38;5;124;43m'\u001b[39;49m\u001b[43m)\u001b[49m \u001b[38;5;28;01mas\u001b[39;00m f:\n\u001b[0;32m    482\u001b[0m         NumpyPickler(f, protocol\u001b[38;5;241m=\u001b[39mprotocol)\u001b[38;5;241m.\u001b[39mdump(value)\n\u001b[0;32m    483\u001b[0m \u001b[38;5;28;01melse\u001b[39;00m:\n",
      "\u001b[1;31mFileNotFoundError\u001b[0m: [Errno 2] No such file or directory: './../savedModeles/model.joblib'"
     ]
    }
   ],
   "source": [
    "dump(random_forest_classifier,'./../savedModeles/model.joblib')"
   ]
  },
  {
   "cell_type": "code",
   "execution_count": null,
   "id": "dba0213a",
   "metadata": {},
   "outputs": [],
   "source": []
  }
 ],
 "metadata": {
  "kernelspec": {
   "display_name": "Python 3 (ipykernel)",
   "language": "python",
   "name": "python3"
  },
  "language_info": {
   "codemirror_mode": {
    "name": "ipython",
    "version": 3
   },
   "file_extension": ".py",
   "mimetype": "text/x-python",
   "name": "python",
   "nbconvert_exporter": "python",
   "pygments_lexer": "ipython3",
   "version": "3.9.12"
  }
 },
 "nbformat": 4,
 "nbformat_minor": 5
}
