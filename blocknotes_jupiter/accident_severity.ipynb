{
 "cells": [
  {
   "cell_type": "code",
   "execution_count": 1,
   "id": "a5bbfa20",
   "metadata": {},
   "outputs": [],
   "source": [
    "# Suppress all warnings\n",
    "import warnings\n",
    "warnings.filterwarnings(\"ignore\")"
   ]
  },
  {
   "cell_type": "code",
   "execution_count": 2,
   "id": "587b6de4",
   "metadata": {},
   "outputs": [],
   "source": [
    "import numpy as np\n",
    "import pandas as pd"
   ]
  },
  {
   "cell_type": "code",
   "execution_count": 3,
   "id": "2cd1c8ee",
   "metadata": {},
   "outputs": [],
   "source": [
    "import pyodbc \n",
    "\n",
    "conndw = pyodbc.connect('Driver={SQL Server};'\n",
    "                      'Server=SAMET;'\n",
    "                      'Database=Projet3;'\n",
    "                      'Trusted_Connection=yes;')\n",
    "cursorDW = conndw.cursor()"
   ]
  },
  {
   "cell_type": "code",
   "execution_count": 4,
   "id": "6fc2f792",
   "metadata": {},
   "outputs": [],
   "source": [
    "SQL_Query = pd.read_sql_query('''select DateKey,FullDate,Year,DayOfWeek FROM [dbo].[dim_timspan]''', conndw)\n",
    "\n",
    "dim_timspan = pd.DataFrame(SQL_Query)"
   ]
  },
  {
   "cell_type": "code",
   "execution_count": 5,
   "id": "502d62f3",
   "metadata": {},
   "outputs": [],
   "source": [
    "SQL_Query = pd.read_sql_query('''select * FROM [dbo].[DimConditions]''', conndw)\n",
    "DimConditions = pd.DataFrame(SQL_Query)"
   ]
  },
  {
   "cell_type": "code",
   "execution_count": 6,
   "id": "e4ccb4e5",
   "metadata": {},
   "outputs": [],
   "source": [
    "SQL_Query = pd.read_sql_query('''select * FROM [dbo].[DimLocation]''', conndw)\n",
    "DimLocation = pd.DataFrame(SQL_Query)"
   ]
  },
  {
   "cell_type": "code",
   "execution_count": 7,
   "id": "e42b45ca",
   "metadata": {},
   "outputs": [],
   "source": [
    "SQL_Query = pd.read_sql_query('''select * FROM [dbo].[DimPolice]''', conndw)\n",
    "DimPolice = pd.DataFrame(SQL_Query)"
   ]
  },
  {
   "cell_type": "code",
   "execution_count": 8,
   "id": "8d54fe3d",
   "metadata": {},
   "outputs": [],
   "source": [
    "SQL_Query = pd.read_sql_query('''select * FROM [dbo].[DimRoad]''', conndw)\n",
    "DimRoad = pd.DataFrame(SQL_Query)"
   ]
  },
  {
   "cell_type": "code",
   "execution_count": 9,
   "id": "2f134248",
   "metadata": {},
   "outputs": [],
   "source": [
    "SQL_Query = pd.read_sql_query('''select * FROM [dbo].[DimTypeAccidentSeverity]''', conndw)\n",
    "DimTypeAccidentSeverity = pd.DataFrame(SQL_Query)"
   ]
  },
  {
   "cell_type": "code",
   "execution_count": 10,
   "id": "b3b0f026",
   "metadata": {},
   "outputs": [],
   "source": [
    "SQL_Query = pd.read_sql_query('''select * FROM [dbo].[FactAccident]''', conndw)\n",
    "FactAccident = pd.DataFrame(SQL_Query)"
   ]
  },
  {
   "cell_type": "code",
   "execution_count": 11,
   "id": "c687e63d",
   "metadata": {},
   "outputs": [],
   "source": [
    "def decomposeefact(fact,li,li1):\n",
    "    for i,j in enumerate(li):\n",
    "        fact= pd.merge(fact,j,on=li1[i])\n",
    "    return fact"
   ]
  },
  {
   "cell_type": "code",
   "execution_count": 12,
   "id": "5b18aac7",
   "metadata": {},
   "outputs": [],
   "source": [
    "listetable=[dim_timspan,DimConditions,DimLocation,DimPolice,DimRoad,DimTypeAccidentSeverity]\n",
    "listeid=['DateKey','code_condition','code_location','code_police','code_road','code_severity']"
   ]
  },
  {
   "cell_type": "code",
   "execution_count": 13,
   "id": "6d2779cc",
   "metadata": {},
   "outputs": [],
   "source": [
    "FactAccident=decomposeefact(FactAccident,listetable,listeid)"
   ]
  },
  {
   "cell_type": "code",
   "execution_count": 14,
   "id": "18649594",
   "metadata": {},
   "outputs": [
    {
     "data": {
      "text/plain": [
       "(1504150, 29)"
      ]
     },
     "execution_count": 14,
     "metadata": {},
     "output_type": "execute_result"
    }
   ],
   "source": [
    "FactAccident.shape"
   ]
  },
  {
   "cell_type": "code",
   "execution_count": 15,
   "id": "b6ba8f94",
   "metadata": {},
   "outputs": [],
   "source": [
    "###The idea in this section is to predict the severity of the accident according to the analyzed data."
   ]
  },
  {
   "cell_type": "code",
   "execution_count": 16,
   "id": "b120b888",
   "metadata": {},
   "outputs": [
    {
     "data": {
      "text/html": [
       "<div>\n",
       "<style scoped>\n",
       "    .dataframe tbody tr th:only-of-type {\n",
       "        vertical-align: middle;\n",
       "    }\n",
       "\n",
       "    .dataframe tbody tr th {\n",
       "        vertical-align: top;\n",
       "    }\n",
       "\n",
       "    .dataframe thead th {\n",
       "        text-align: right;\n",
       "    }\n",
       "</style>\n",
       "<table border=\"1\" class=\"dataframe\">\n",
       "  <thead>\n",
       "    <tr style=\"text-align: right;\">\n",
       "      <th></th>\n",
       "      <th>Accident_Index</th>\n",
       "      <th>code_location</th>\n",
       "      <th>code_condition</th>\n",
       "      <th>code_police</th>\n",
       "      <th>code_road</th>\n",
       "      <th>DateKey</th>\n",
       "      <th>code_severity</th>\n",
       "      <th>Number_of_Vehicles</th>\n",
       "      <th>Number_of_Casualties</th>\n",
       "      <th>Did_Police_Officer_Attend_Scene_of_Accident</th>\n",
       "      <th>...</th>\n",
       "      <th>Longitude</th>\n",
       "      <th>Latitude</th>\n",
       "      <th>Urban_or_Rural_Area</th>\n",
       "      <th>Police_Force</th>\n",
       "      <th>Local_Authority_District</th>\n",
       "      <th>Local_Authority_Highway</th>\n",
       "      <th>Road_Type</th>\n",
       "      <th>Speed_limit</th>\n",
       "      <th>Accident_Severity</th>\n",
       "      <th>Nomenclature</th>\n",
       "    </tr>\n",
       "  </thead>\n",
       "  <tbody>\n",
       "    <tr>\n",
       "      <th>0</th>\n",
       "      <td>200501BS00001</td>\n",
       "      <td>969956</td>\n",
       "      <td>752</td>\n",
       "      <td>24</td>\n",
       "      <td>25</td>\n",
       "      <td>20050104</td>\n",
       "      <td>2</td>\n",
       "      <td>1</td>\n",
       "      <td>1</td>\n",
       "      <td>1</td>\n",
       "      <td>...</td>\n",
       "      <td>-0.19117</td>\n",
       "      <td>51.4891</td>\n",
       "      <td>1</td>\n",
       "      <td>1</td>\n",
       "      <td>12</td>\n",
       "      <td>E09000020</td>\n",
       "      <td>Single carriageway</td>\n",
       "      <td>30</td>\n",
       "      <td>2</td>\n",
       "      <td>medium</td>\n",
       "    </tr>\n",
       "    <tr>\n",
       "      <th>1</th>\n",
       "      <td>200701BS70255</td>\n",
       "      <td>969328</td>\n",
       "      <td>602</td>\n",
       "      <td>24</td>\n",
       "      <td>25</td>\n",
       "      <td>20070516</td>\n",
       "      <td>2</td>\n",
       "      <td>3</td>\n",
       "      <td>1</td>\n",
       "      <td>1</td>\n",
       "      <td>...</td>\n",
       "      <td>-0.192366</td>\n",
       "      <td>51.4916</td>\n",
       "      <td>1</td>\n",
       "      <td>1</td>\n",
       "      <td>12</td>\n",
       "      <td>E09000020</td>\n",
       "      <td>Single carriageway</td>\n",
       "      <td>30</td>\n",
       "      <td>2</td>\n",
       "      <td>medium</td>\n",
       "    </tr>\n",
       "    <tr>\n",
       "      <th>2</th>\n",
       "      <td>200701BS70534</td>\n",
       "      <td>969328</td>\n",
       "      <td>602</td>\n",
       "      <td>24</td>\n",
       "      <td>25</td>\n",
       "      <td>20070917</td>\n",
       "      <td>2</td>\n",
       "      <td>1</td>\n",
       "      <td>1</td>\n",
       "      <td>1</td>\n",
       "      <td>...</td>\n",
       "      <td>-0.192366</td>\n",
       "      <td>51.4916</td>\n",
       "      <td>1</td>\n",
       "      <td>1</td>\n",
       "      <td>12</td>\n",
       "      <td>E09000020</td>\n",
       "      <td>Single carriageway</td>\n",
       "      <td>30</td>\n",
       "      <td>2</td>\n",
       "      <td>medium</td>\n",
       "    </tr>\n",
       "    <tr>\n",
       "      <th>3</th>\n",
       "      <td>200601BS70277</td>\n",
       "      <td>958601</td>\n",
       "      <td>602</td>\n",
       "      <td>24</td>\n",
       "      <td>25</td>\n",
       "      <td>20060529</td>\n",
       "      <td>2</td>\n",
       "      <td>2</td>\n",
       "      <td>1</td>\n",
       "      <td>1</td>\n",
       "      <td>...</td>\n",
       "      <td>-0.211712</td>\n",
       "      <td>51.52</td>\n",
       "      <td>1</td>\n",
       "      <td>1</td>\n",
       "      <td>12</td>\n",
       "      <td>E09000020</td>\n",
       "      <td>Single carriageway</td>\n",
       "      <td>30</td>\n",
       "      <td>2</td>\n",
       "      <td>medium</td>\n",
       "    </tr>\n",
       "    <tr>\n",
       "      <th>4</th>\n",
       "      <td>201201BS70113</td>\n",
       "      <td>958601</td>\n",
       "      <td>602</td>\n",
       "      <td>24</td>\n",
       "      <td>25</td>\n",
       "      <td>20120305</td>\n",
       "      <td>2</td>\n",
       "      <td>2</td>\n",
       "      <td>1</td>\n",
       "      <td>1</td>\n",
       "      <td>...</td>\n",
       "      <td>-0.211712</td>\n",
       "      <td>51.52</td>\n",
       "      <td>1</td>\n",
       "      <td>1</td>\n",
       "      <td>12</td>\n",
       "      <td>E09000020</td>\n",
       "      <td>Single carriageway</td>\n",
       "      <td>30</td>\n",
       "      <td>2</td>\n",
       "      <td>medium</td>\n",
       "    </tr>\n",
       "  </tbody>\n",
       "</table>\n",
       "<p>5 rows × 29 columns</p>\n",
       "</div>"
      ],
      "text/plain": [
       "  Accident_Index  code_location  code_condition  code_police  code_road  \\\n",
       "0  200501BS00001         969956             752           24         25   \n",
       "1  200701BS70255         969328             602           24         25   \n",
       "2  200701BS70534         969328             602           24         25   \n",
       "3  200601BS70277         958601             602           24         25   \n",
       "4  201201BS70113         958601             602           24         25   \n",
       "\n",
       "    DateKey  code_severity  Number_of_Vehicles  Number_of_Casualties  \\\n",
       "0  20050104              2                   1                     1   \n",
       "1  20070516              2                   3                     1   \n",
       "2  20070917              2                   1                     1   \n",
       "3  20060529              2                   2                     1   \n",
       "4  20120305              2                   2                     1   \n",
       "\n",
       "   Did_Police_Officer_Attend_Scene_of_Accident  ...  Longitude Latitude  \\\n",
       "0                                            1  ...   -0.19117  51.4891   \n",
       "1                                            1  ...  -0.192366  51.4916   \n",
       "2                                            1  ...  -0.192366  51.4916   \n",
       "3                                            1  ...  -0.211712    51.52   \n",
       "4                                            1  ...  -0.211712    51.52   \n",
       "\n",
       "  Urban_or_Rural_Area Police_Force Local_Authority_District  \\\n",
       "0                   1            1                       12   \n",
       "1                   1            1                       12   \n",
       "2                   1            1                       12   \n",
       "3                   1            1                       12   \n",
       "4                   1            1                       12   \n",
       "\n",
       "  Local_Authority_Highway           Road_Type Speed_limit Accident_Severity  \\\n",
       "0               E09000020  Single carriageway          30                 2   \n",
       "1               E09000020  Single carriageway          30                 2   \n",
       "2               E09000020  Single carriageway          30                 2   \n",
       "3               E09000020  Single carriageway          30                 2   \n",
       "4               E09000020  Single carriageway          30                 2   \n",
       "\n",
       "  Nomenclature  \n",
       "0       medium  \n",
       "1       medium  \n",
       "2       medium  \n",
       "3       medium  \n",
       "4       medium  \n",
       "\n",
       "[5 rows x 29 columns]"
      ]
     },
     "execution_count": 16,
     "metadata": {},
     "output_type": "execute_result"
    }
   ],
   "source": [
    "FactAccident.head(5)"
   ]
  },
  {
   "cell_type": "code",
   "execution_count": 17,
   "id": "194e4618",
   "metadata": {},
   "outputs": [],
   "source": [
    "# Required Libraries\n",
    "from sklearn.preprocessing import LabelEncoder\n",
    "from sklearn.model_selection import train_test_split\n",
    "from sklearn.neighbors import KNeighborsClassifier\n",
    "from sklearn.naive_bayes import GaussianNB\n",
    "from sklearn.metrics import accuracy_score\n",
    "from sklearn.metrics import confusion_matrix"
   ]
  },
  {
   "cell_type": "code",
   "execution_count": 18,
   "id": "d00eaa8d",
   "metadata": {},
   "outputs": [],
   "source": [
    "#Setting up a dataframe with the data converted to int encoded values\n",
    "#facilitating training\n",
    "#FactAccident_class = FactAccident.copy()\n",
    "\n",
    "FactAccident_class = FactAccident.iloc[100000:1500000,:]\n",
    "\n",
    "var=['code_condition','Local_Authority_Highway','Number_of_Vehicles','Accident_Severity']\n",
    "FactAccident_class=FactAccident_class[var]\n",
    "\n",
    "le = LabelEncoder()\n",
    "\n",
    "for i in FactAccident_class.columns:\n",
    "    if i != 'Accident_Severity':\n",
    "        FactAccident_class[i] = le.fit_transform(FactAccident_class[i])"
   ]
  },
  {
   "cell_type": "code",
   "execution_count": 19,
   "id": "7f655045",
   "metadata": {},
   "outputs": [
    {
     "data": {
      "text/html": [
       "<div>\n",
       "<style scoped>\n",
       "    .dataframe tbody tr th:only-of-type {\n",
       "        vertical-align: middle;\n",
       "    }\n",
       "\n",
       "    .dataframe tbody tr th {\n",
       "        vertical-align: top;\n",
       "    }\n",
       "\n",
       "    .dataframe thead th {\n",
       "        text-align: right;\n",
       "    }\n",
       "</style>\n",
       "<table border=\"1\" class=\"dataframe\">\n",
       "  <thead>\n",
       "    <tr style=\"text-align: right;\">\n",
       "      <th></th>\n",
       "      <th>code_condition</th>\n",
       "      <th>Local_Authority_Highway</th>\n",
       "      <th>Number_of_Vehicles</th>\n",
       "      <th>Accident_Severity</th>\n",
       "    </tr>\n",
       "  </thead>\n",
       "  <tbody>\n",
       "    <tr>\n",
       "      <th>100000</th>\n",
       "      <td>591</td>\n",
       "      <td>148</td>\n",
       "      <td>0</td>\n",
       "      <td>2</td>\n",
       "    </tr>\n",
       "    <tr>\n",
       "      <th>100001</th>\n",
       "      <td>591</td>\n",
       "      <td>148</td>\n",
       "      <td>1</td>\n",
       "      <td>2</td>\n",
       "    </tr>\n",
       "    <tr>\n",
       "      <th>100002</th>\n",
       "      <td>591</td>\n",
       "      <td>148</td>\n",
       "      <td>0</td>\n",
       "      <td>2</td>\n",
       "    </tr>\n",
       "    <tr>\n",
       "      <th>100003</th>\n",
       "      <td>591</td>\n",
       "      <td>148</td>\n",
       "      <td>0</td>\n",
       "      <td>2</td>\n",
       "    </tr>\n",
       "    <tr>\n",
       "      <th>100004</th>\n",
       "      <td>591</td>\n",
       "      <td>148</td>\n",
       "      <td>0</td>\n",
       "      <td>2</td>\n",
       "    </tr>\n",
       "    <tr>\n",
       "      <th>100005</th>\n",
       "      <td>591</td>\n",
       "      <td>148</td>\n",
       "      <td>1</td>\n",
       "      <td>2</td>\n",
       "    </tr>\n",
       "    <tr>\n",
       "      <th>100006</th>\n",
       "      <td>591</td>\n",
       "      <td>148</td>\n",
       "      <td>1</td>\n",
       "      <td>2</td>\n",
       "    </tr>\n",
       "    <tr>\n",
       "      <th>100007</th>\n",
       "      <td>591</td>\n",
       "      <td>148</td>\n",
       "      <td>4</td>\n",
       "      <td>2</td>\n",
       "    </tr>\n",
       "    <tr>\n",
       "      <th>100008</th>\n",
       "      <td>591</td>\n",
       "      <td>148</td>\n",
       "      <td>1</td>\n",
       "      <td>2</td>\n",
       "    </tr>\n",
       "    <tr>\n",
       "      <th>100009</th>\n",
       "      <td>591</td>\n",
       "      <td>148</td>\n",
       "      <td>2</td>\n",
       "      <td>2</td>\n",
       "    </tr>\n",
       "  </tbody>\n",
       "</table>\n",
       "</div>"
      ],
      "text/plain": [
       "        code_condition  Local_Authority_Highway  Number_of_Vehicles  \\\n",
       "100000             591                      148                   0   \n",
       "100001             591                      148                   1   \n",
       "100002             591                      148                   0   \n",
       "100003             591                      148                   0   \n",
       "100004             591                      148                   0   \n",
       "100005             591                      148                   1   \n",
       "100006             591                      148                   1   \n",
       "100007             591                      148                   4   \n",
       "100008             591                      148                   1   \n",
       "100009             591                      148                   2   \n",
       "\n",
       "       Accident_Severity  \n",
       "100000                 2  \n",
       "100001                 2  \n",
       "100002                 2  \n",
       "100003                 2  \n",
       "100004                 2  \n",
       "100005                 2  \n",
       "100006                 2  \n",
       "100007                 2  \n",
       "100008                 2  \n",
       "100009                 2  "
      ]
     },
     "execution_count": 19,
     "metadata": {},
     "output_type": "execute_result"
    }
   ],
   "source": [
    "FactAccident_class.head(10)"
   ]
  },
  {
   "cell_type": "code",
   "execution_count": 27,
   "id": "bb5fed9a",
   "metadata": {},
   "outputs": [],
   "source": [
    "#Converting to array, separating class from attributes\n",
    "Y = np.array(FactAccident_class['Accident_Severity'])\n",
    "X = np.array(FactAccident_class.drop(columns=['Accident_Severity']))"
   ]
  },
  {
   "cell_type": "code",
   "execution_count": 28,
   "id": "85407d52",
   "metadata": {},
   "outputs": [],
   "source": [
    "#Creating test and training set, with 70% of data for training 0.3\n",
    "train_x, test_x, train_y, test_y = train_test_split(X, Y, test_size=0.3, random_state=42)"
   ]
  },
  {
   "cell_type": "code",
   "execution_count": 29,
   "id": "d10d3de1",
   "metadata": {},
   "outputs": [],
   "source": [
    "def treinarKNN(train_x, train_y, test_x, test_y, n_neighbors=1):\n",
    "    model = KNeighborsClassifier(n_neighbors=k)\n",
    "    model.fit(train_x, train_y)\n",
    "    pred_y = model.predict(test_x)\n",
    "    return accuracy_score(pred_y, test_y), confusion_matrix(test_y, pred_y)"
   ]
  },
  {
   "cell_type": "code",
   "execution_count": 30,
   "id": "2cce082f",
   "metadata": {},
   "outputs": [],
   "source": [
    "def treinarNaiveBayes(train_x, train_y, test_x, test_y):\n",
    "    gnb = GaussianNB()\n",
    "    gnb.fit(train_x, train_y)\n",
    "    pred_y = gnb.predict(test_x)\n",
    "    return accuracy_score(pred_y, test_y), confusion_matrix(test_y, pred_y)"
   ]
  },
  {
   "cell_type": "code",
   "execution_count": 33,
   "id": "f31ff6f0",
   "metadata": {},
   "outputs": [
    {
     "name": "stdout",
     "output_type": "stream",
     "text": [
      "==== Accuracy for each number of neighbors ====\n",
      "\n",
      "k = 1: 84.20%\n",
      "Confusion matrix:\n",
      "[[   109    490   3991]\n",
      " [   522   3661  26933]\n",
      " [  4174  30266 349854]]\n",
      "\n",
      "k = 2: 78.35%\n",
      "Confusion matrix:\n",
      "[[   208    918   3464]\n",
      " [   990   6536  23590]\n",
      " [  7687  54274 322333]]\n",
      "\n",
      "k = 3: 89.52%\n",
      "Confusion matrix:\n",
      "[[    70    201   4319]\n",
      " [   398   1408  29310]\n",
      " [  1657   8118 374519]]\n",
      "\n",
      "k = 4: 88.79%\n",
      "Confusion matrix:\n",
      "[[    11    327   4252]\n",
      " [    64   2301  28751]\n",
      " [   355  13353 370586]]\n",
      "\n",
      "k = 5: 90.56%\n",
      "Confusion matrix:\n",
      "[[     9    170   4411]\n",
      " [    51   1011  30054]\n",
      " [   188   4774 379332]]\n",
      "\n",
      "k = 6: 90.40%\n",
      "Confusion matrix:\n",
      "[[     4    167   4419]\n",
      " [    29   1261  29826]\n",
      " [    76   5824 378394]]\n",
      "\n",
      "k = 7: 91.03%\n",
      "Confusion matrix:\n",
      "[[     0     87   4503]\n",
      " [    11    626  30479]\n",
      " [    32   2548 381714]]\n",
      "\n",
      "k = 8: 90.91%\n",
      "Confusion matrix:\n",
      "[[     0     99   4491]\n",
      " [    10    794  30312]\n",
      " [    26   3227 381041]]\n",
      "\n",
      "k = 9: 91.34%\n",
      "Confusion matrix:\n",
      "[[     0     53   4537]\n",
      " [     9    277  30830]\n",
      " [    23    917 383354]]\n",
      "\n",
      "k = 10: 91.09%\n",
      "Confusion matrix:\n",
      "[[     0     83   4507]\n",
      " [     0    585  30531]\n",
      " [     0   2313 381981]]\n",
      "\n"
     ]
    }
   ],
   "source": [
    "#Training the KNN classification model, for k ranging from 1 to 11\n",
    "print(\"==== Accuracy for each number of neighbors ====\\n\")\n",
    "for k in range(1, 11):\n",
    "    acc, cm = treinarKNN(train_x, train_y, test_x, test_y, k)\n",
    "    print(\"k = %d: %.2f%%\" % (k, 100*acc))\n",
    "    print(\"Confusion matrix:\")\n",
    "    print(cm, end='\\n\\n')"
   ]
  },
  {
   "cell_type": "code",
   "execution_count": 31,
   "id": "720b382c",
   "metadata": {
    "scrolled": true
   },
   "outputs": [
    {
     "name": "stdout",
     "output_type": "stream",
     "text": [
      "====Accuracy for the Naive Bayes algorithm ====\n",
      "91.25%\n",
      "Confusion matrix:\n",
      "[[     4     55   4531]\n",
      " [    32    244  30840]\n",
      " [   137   1151 383006]]\n",
      "\n"
     ]
    }
   ],
   "source": [
    "#Training the Naive Bayes classification model\n",
    "print(\"====Accuracy for the Naive Bayes algorithm ====\")\n",
    "acc, cm = treinarNaiveBayes(train_x, train_y, test_x, test_y)\n",
    "print(\"%.2f%%\" % ( 100*acc))\n",
    "print(\"Confusion matrix:\")\n",
    "print(cm, end='\\n\\n')"
   ]
  },
  {
   "cell_type": "code",
   "execution_count": null,
   "id": "84aa11af",
   "metadata": {},
   "outputs": [],
   "source": [
    "## On voit que l'algorithme Naive Bayes a mieux performé dans la classification, et, de plus,\n",
    "#il est possible de conclure qu'il est clairement possible de prédire la gravité d'un accident en fonction de \n",
    "#la situation au cas où il y aurait même un accident, encore plus avec une précision de 91.25 %"
   ]
  },
  {
   "cell_type": "code",
   "execution_count": null,
   "id": "df7dac49",
   "metadata": {},
   "outputs": [],
   "source": []
  }
 ],
 "metadata": {
  "kernelspec": {
   "display_name": "Python 3 (ipykernel)",
   "language": "python",
   "name": "python3"
  },
  "language_info": {
   "codemirror_mode": {
    "name": "ipython",
    "version": 3
   },
   "file_extension": ".py",
   "mimetype": "text/x-python",
   "name": "python",
   "nbconvert_exporter": "python",
   "pygments_lexer": "ipython3",
   "version": "3.9.12"
  }
 },
 "nbformat": 4,
 "nbformat_minor": 5
}
