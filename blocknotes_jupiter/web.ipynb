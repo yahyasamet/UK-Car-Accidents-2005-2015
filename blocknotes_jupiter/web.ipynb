{
 "cells": [
  {
   "cell_type": "code",
   "execution_count": 1,
   "id": "0ddc96c0",
   "metadata": {},
   "outputs": [],
   "source": [
    "import pyodbc\n",
    "import pandas as pd\n",
    "import numpy as np\n",
    "import matplotlib as mpl, matplotlib.pyplot as plt\n",
    "import seaborn as sns\n",
    "from sklearn import metrics\n",
    "from sklearn.metrics import classification_report\n",
    "from imblearn.combine import SMOTEENN\n",
    "from imblearn.over_sampling import SMOTE\n",
    "import warnings\n",
    "warnings.filterwarnings('ignore')"
   ]
  },
  {
   "cell_type": "code",
   "execution_count": 2,
   "id": "b004cfd4",
   "metadata": {},
   "outputs": [],
   "source": [
    "DWConnect = pyodbc.connect('Driver={SQL Server};'\n",
    "                      'Server=SAMET;'\n",
    "                      'Database=Projet3;'\n",
    "                      'Trusted_Connection=yes;')\n",
    "cursor_Dim = DWConnect.cursor()"
   ]
  },
  {
   "cell_type": "code",
   "execution_count": 3,
   "id": "05f91c9a",
   "metadata": {},
   "outputs": [],
   "source": [
    "SQL_Query = pd.read_sql_query('''select * FROM [dbo].[DimConditions]''', DWConnect)\n",
    "DimConditions = pd.DataFrame(SQL_Query)\n",
    "SQL_Query = pd.read_sql_query('''select * FROM [dbo].[DimTypeAccidentSeverity]''', DWConnect)\n",
    "DimTypeAccidentSeverity = pd.DataFrame(SQL_Query)\n",
    "SQL_Query = pd.read_sql_query('''select * FROM [dbo].[FactAccident]''', DWConnect)\n",
    "FactAccident = pd.DataFrame(SQL_Query)"
   ]
  },
  {
   "cell_type": "code",
   "execution_count": 4,
   "id": "1b802959",
   "metadata": {},
   "outputs": [],
   "source": [
    "def decomposefact(fact,liste_1,liste_2):\n",
    "    for i,j in enumerate(liste_1):\n",
    "        fact= pd.merge(fact,j,on=liste_2[i])\n",
    "    return fact"
   ]
  },
  {
   "cell_type": "code",
   "execution_count": 5,
   "id": "c8f7fd02",
   "metadata": {},
   "outputs": [],
   "source": [
    "listetable=[DimConditions,DimTypeAccidentSeverity]\n",
    "listeid=['code_condition','code_severity']"
   ]
  },
  {
   "cell_type": "code",
   "execution_count": 6,
   "id": "947956c2",
   "metadata": {},
   "outputs": [],
   "source": [
    "Accidents=decomposefact(FactAccident,listetable,listeid)"
   ]
  },
  {
   "cell_type": "code",
   "execution_count": 7,
   "id": "52406ab7",
   "metadata": {},
   "outputs": [],
   "source": [
    "from sklearn.preprocessing import LabelEncoder\n",
    "from sklearn.model_selection import train_test_split\n",
    "from sklearn.metrics import accuracy_score\n",
    "from sklearn.ensemble import RandomForestClassifier"
   ]
  },
  {
   "cell_type": "code",
   "execution_count": 8,
   "id": "d8a4a5f3",
   "metadata": {},
   "outputs": [],
   "source": [
    "Accidents_class = Accidents\n",
    "Accidents_class=Accidents_class[[ 'Light_Conditions'\n",
    "      ,'Weather_Conditions'\n",
    "      ,'Road_Surface_Conditions'\n",
    "      ,'Special_Conditions_at_Site','Number_of_Vehicles','Accident_Severity']]\n",
    "le = LabelEncoder()\n",
    "\n",
    "for i in Accidents_class.columns:\n",
    "    if i != 'Accident_Severity':\n",
    "        Accidents_class[i] = le.fit_transform(Accidents_class[i])"
   ]
  },
  {
   "cell_type": "code",
   "execution_count": 9,
   "id": "616066a0",
   "metadata": {},
   "outputs": [
    {
     "data": {
      "text/html": [
       "<div>\n",
       "<style scoped>\n",
       "    .dataframe tbody tr th:only-of-type {\n",
       "        vertical-align: middle;\n",
       "    }\n",
       "\n",
       "    .dataframe tbody tr th {\n",
       "        vertical-align: top;\n",
       "    }\n",
       "\n",
       "    .dataframe thead th {\n",
       "        text-align: right;\n",
       "    }\n",
       "</style>\n",
       "<table border=\"1\" class=\"dataframe\">\n",
       "  <thead>\n",
       "    <tr style=\"text-align: right;\">\n",
       "      <th></th>\n",
       "      <th>Light_Conditions</th>\n",
       "      <th>Weather_Conditions</th>\n",
       "      <th>Road_Surface_Conditions</th>\n",
       "      <th>Special_Conditions_at_Site</th>\n",
       "      <th>Number_of_Vehicles</th>\n",
       "      <th>Accident_Severity</th>\n",
       "    </tr>\n",
       "  </thead>\n",
       "  <tbody>\n",
       "    <tr>\n",
       "      <th>0</th>\n",
       "      <td>4</td>\n",
       "      <td>6</td>\n",
       "      <td>5</td>\n",
       "      <td>4</td>\n",
       "      <td>0</td>\n",
       "      <td>2</td>\n",
       "    </tr>\n",
       "    <tr>\n",
       "      <th>1</th>\n",
       "      <td>4</td>\n",
       "      <td>6</td>\n",
       "      <td>5</td>\n",
       "      <td>4</td>\n",
       "      <td>0</td>\n",
       "      <td>2</td>\n",
       "    </tr>\n",
       "    <tr>\n",
       "      <th>2</th>\n",
       "      <td>4</td>\n",
       "      <td>6</td>\n",
       "      <td>5</td>\n",
       "      <td>4</td>\n",
       "      <td>0</td>\n",
       "      <td>2</td>\n",
       "    </tr>\n",
       "    <tr>\n",
       "      <th>3</th>\n",
       "      <td>4</td>\n",
       "      <td>6</td>\n",
       "      <td>5</td>\n",
       "      <td>4</td>\n",
       "      <td>0</td>\n",
       "      <td>2</td>\n",
       "    </tr>\n",
       "    <tr>\n",
       "      <th>4</th>\n",
       "      <td>4</td>\n",
       "      <td>6</td>\n",
       "      <td>5</td>\n",
       "      <td>4</td>\n",
       "      <td>1</td>\n",
       "      <td>2</td>\n",
       "    </tr>\n",
       "    <tr>\n",
       "      <th>...</th>\n",
       "      <td>...</td>\n",
       "      <td>...</td>\n",
       "      <td>...</td>\n",
       "      <td>...</td>\n",
       "      <td>...</td>\n",
       "      <td>...</td>\n",
       "    </tr>\n",
       "    <tr>\n",
       "      <th>1504044</th>\n",
       "      <td>0</td>\n",
       "      <td>9</td>\n",
       "      <td>1</td>\n",
       "      <td>7</td>\n",
       "      <td>0</td>\n",
       "      <td>1</td>\n",
       "    </tr>\n",
       "    <tr>\n",
       "      <th>1504045</th>\n",
       "      <td>4</td>\n",
       "      <td>6</td>\n",
       "      <td>2</td>\n",
       "      <td>6</td>\n",
       "      <td>0</td>\n",
       "      <td>1</td>\n",
       "    </tr>\n",
       "    <tr>\n",
       "      <th>1504046</th>\n",
       "      <td>3</td>\n",
       "      <td>2</td>\n",
       "      <td>2</td>\n",
       "      <td>4</td>\n",
       "      <td>2</td>\n",
       "      <td>1</td>\n",
       "    </tr>\n",
       "    <tr>\n",
       "      <th>1504047</th>\n",
       "      <td>0</td>\n",
       "      <td>8</td>\n",
       "      <td>4</td>\n",
       "      <td>6</td>\n",
       "      <td>1</td>\n",
       "      <td>1</td>\n",
       "    </tr>\n",
       "    <tr>\n",
       "      <th>1504048</th>\n",
       "      <td>4</td>\n",
       "      <td>6</td>\n",
       "      <td>2</td>\n",
       "      <td>2</td>\n",
       "      <td>1</td>\n",
       "      <td>1</td>\n",
       "    </tr>\n",
       "  </tbody>\n",
       "</table>\n",
       "<p>1504049 rows × 6 columns</p>\n",
       "</div>"
      ],
      "text/plain": [
       "         Light_Conditions  Weather_Conditions  Road_Surface_Conditions  \\\n",
       "0                       4                   6                        5   \n",
       "1                       4                   6                        5   \n",
       "2                       4                   6                        5   \n",
       "3                       4                   6                        5   \n",
       "4                       4                   6                        5   \n",
       "...                   ...                 ...                      ...   \n",
       "1504044                 0                   9                        1   \n",
       "1504045                 4                   6                        2   \n",
       "1504046                 3                   2                        2   \n",
       "1504047                 0                   8                        4   \n",
       "1504048                 4                   6                        2   \n",
       "\n",
       "         Special_Conditions_at_Site  Number_of_Vehicles Accident_Severity  \n",
       "0                                 4                   0                 2  \n",
       "1                                 4                   0                 2  \n",
       "2                                 4                   0                 2  \n",
       "3                                 4                   0                 2  \n",
       "4                                 4                   1                 2  \n",
       "...                             ...                 ...               ...  \n",
       "1504044                           7                   0                 1  \n",
       "1504045                           6                   0                 1  \n",
       "1504046                           4                   2                 1  \n",
       "1504047                           6                   1                 1  \n",
       "1504048                           2                   1                 1  \n",
       "\n",
       "[1504049 rows x 6 columns]"
      ]
     },
     "execution_count": 9,
     "metadata": {},
     "output_type": "execute_result"
    }
   ],
   "source": [
    "Accidents_class"
   ]
  },
  {
   "cell_type": "code",
   "execution_count": 10,
   "id": "29fc1128",
   "metadata": {},
   "outputs": [],
   "source": [
    "#train_frame=Accidents_class\n",
    "#test_frame=Accidents_class\n",
    "#X = train_frame.drop(\"Accident_Severity\",axis=1)\n",
    "#over_X_test = test_frame.drop(\"Accident_Severity\",axis=1)\n",
    "#y = train_frame[\"Accident_Severity\"]\n",
    "#over_y_test = test_frame[\"Accident_Severity\"]"
   ]
  },
  {
   "cell_type": "code",
   "execution_count": 11,
   "id": "e0ebf9ab",
   "metadata": {},
   "outputs": [],
   "source": [
    "X=pd.DataFrame(Accidents_class.iloc[:,:-1])"
   ]
  },
  {
   "cell_type": "code",
   "execution_count": 12,
   "id": "679212e8",
   "metadata": {},
   "outputs": [
    {
     "data": {
      "text/html": [
       "<div>\n",
       "<style scoped>\n",
       "    .dataframe tbody tr th:only-of-type {\n",
       "        vertical-align: middle;\n",
       "    }\n",
       "\n",
       "    .dataframe tbody tr th {\n",
       "        vertical-align: top;\n",
       "    }\n",
       "\n",
       "    .dataframe thead th {\n",
       "        text-align: right;\n",
       "    }\n",
       "</style>\n",
       "<table border=\"1\" class=\"dataframe\">\n",
       "  <thead>\n",
       "    <tr style=\"text-align: right;\">\n",
       "      <th></th>\n",
       "      <th>Light_Conditions</th>\n",
       "      <th>Weather_Conditions</th>\n",
       "      <th>Road_Surface_Conditions</th>\n",
       "      <th>Special_Conditions_at_Site</th>\n",
       "      <th>Number_of_Vehicles</th>\n",
       "    </tr>\n",
       "  </thead>\n",
       "  <tbody>\n",
       "    <tr>\n",
       "      <th>0</th>\n",
       "      <td>4</td>\n",
       "      <td>6</td>\n",
       "      <td>5</td>\n",
       "      <td>4</td>\n",
       "      <td>0</td>\n",
       "    </tr>\n",
       "    <tr>\n",
       "      <th>1</th>\n",
       "      <td>4</td>\n",
       "      <td>6</td>\n",
       "      <td>5</td>\n",
       "      <td>4</td>\n",
       "      <td>0</td>\n",
       "    </tr>\n",
       "    <tr>\n",
       "      <th>2</th>\n",
       "      <td>4</td>\n",
       "      <td>6</td>\n",
       "      <td>5</td>\n",
       "      <td>4</td>\n",
       "      <td>0</td>\n",
       "    </tr>\n",
       "    <tr>\n",
       "      <th>3</th>\n",
       "      <td>4</td>\n",
       "      <td>6</td>\n",
       "      <td>5</td>\n",
       "      <td>4</td>\n",
       "      <td>0</td>\n",
       "    </tr>\n",
       "    <tr>\n",
       "      <th>4</th>\n",
       "      <td>4</td>\n",
       "      <td>6</td>\n",
       "      <td>5</td>\n",
       "      <td>4</td>\n",
       "      <td>1</td>\n",
       "    </tr>\n",
       "    <tr>\n",
       "      <th>...</th>\n",
       "      <td>...</td>\n",
       "      <td>...</td>\n",
       "      <td>...</td>\n",
       "      <td>...</td>\n",
       "      <td>...</td>\n",
       "    </tr>\n",
       "    <tr>\n",
       "      <th>1504044</th>\n",
       "      <td>0</td>\n",
       "      <td>9</td>\n",
       "      <td>1</td>\n",
       "      <td>7</td>\n",
       "      <td>0</td>\n",
       "    </tr>\n",
       "    <tr>\n",
       "      <th>1504045</th>\n",
       "      <td>4</td>\n",
       "      <td>6</td>\n",
       "      <td>2</td>\n",
       "      <td>6</td>\n",
       "      <td>0</td>\n",
       "    </tr>\n",
       "    <tr>\n",
       "      <th>1504046</th>\n",
       "      <td>3</td>\n",
       "      <td>2</td>\n",
       "      <td>2</td>\n",
       "      <td>4</td>\n",
       "      <td>2</td>\n",
       "    </tr>\n",
       "    <tr>\n",
       "      <th>1504047</th>\n",
       "      <td>0</td>\n",
       "      <td>8</td>\n",
       "      <td>4</td>\n",
       "      <td>6</td>\n",
       "      <td>1</td>\n",
       "    </tr>\n",
       "    <tr>\n",
       "      <th>1504048</th>\n",
       "      <td>4</td>\n",
       "      <td>6</td>\n",
       "      <td>2</td>\n",
       "      <td>2</td>\n",
       "      <td>1</td>\n",
       "    </tr>\n",
       "  </tbody>\n",
       "</table>\n",
       "<p>1504049 rows × 5 columns</p>\n",
       "</div>"
      ],
      "text/plain": [
       "         Light_Conditions  Weather_Conditions  Road_Surface_Conditions  \\\n",
       "0                       4                   6                        5   \n",
       "1                       4                   6                        5   \n",
       "2                       4                   6                        5   \n",
       "3                       4                   6                        5   \n",
       "4                       4                   6                        5   \n",
       "...                   ...                 ...                      ...   \n",
       "1504044                 0                   9                        1   \n",
       "1504045                 4                   6                        2   \n",
       "1504046                 3                   2                        2   \n",
       "1504047                 0                   8                        4   \n",
       "1504048                 4                   6                        2   \n",
       "\n",
       "         Special_Conditions_at_Site  Number_of_Vehicles  \n",
       "0                                 4                   0  \n",
       "1                                 4                   0  \n",
       "2                                 4                   0  \n",
       "3                                 4                   0  \n",
       "4                                 4                   1  \n",
       "...                             ...                 ...  \n",
       "1504044                           7                   0  \n",
       "1504045                           6                   0  \n",
       "1504046                           4                   2  \n",
       "1504047                           6                   1  \n",
       "1504048                           2                   1  \n",
       "\n",
       "[1504049 rows x 5 columns]"
      ]
     },
     "execution_count": 12,
     "metadata": {},
     "output_type": "execute_result"
    }
   ],
   "source": [
    "X\n"
   ]
  },
  {
   "cell_type": "code",
   "execution_count": 13,
   "id": "46d3107c",
   "metadata": {},
   "outputs": [],
   "source": [
    "y=pd.DataFrame(Accidents_class.iloc[:,-1])"
   ]
  },
  {
   "cell_type": "code",
   "execution_count": 14,
   "id": "12460a6d",
   "metadata": {},
   "outputs": [
    {
     "data": {
      "text/html": [
       "<div>\n",
       "<style scoped>\n",
       "    .dataframe tbody tr th:only-of-type {\n",
       "        vertical-align: middle;\n",
       "    }\n",
       "\n",
       "    .dataframe tbody tr th {\n",
       "        vertical-align: top;\n",
       "    }\n",
       "\n",
       "    .dataframe thead th {\n",
       "        text-align: right;\n",
       "    }\n",
       "</style>\n",
       "<table border=\"1\" class=\"dataframe\">\n",
       "  <thead>\n",
       "    <tr style=\"text-align: right;\">\n",
       "      <th></th>\n",
       "      <th>Accident_Severity</th>\n",
       "    </tr>\n",
       "  </thead>\n",
       "  <tbody>\n",
       "    <tr>\n",
       "      <th>0</th>\n",
       "      <td>2</td>\n",
       "    </tr>\n",
       "    <tr>\n",
       "      <th>1</th>\n",
       "      <td>2</td>\n",
       "    </tr>\n",
       "    <tr>\n",
       "      <th>2</th>\n",
       "      <td>2</td>\n",
       "    </tr>\n",
       "    <tr>\n",
       "      <th>3</th>\n",
       "      <td>2</td>\n",
       "    </tr>\n",
       "    <tr>\n",
       "      <th>4</th>\n",
       "      <td>2</td>\n",
       "    </tr>\n",
       "    <tr>\n",
       "      <th>...</th>\n",
       "      <td>...</td>\n",
       "    </tr>\n",
       "    <tr>\n",
       "      <th>1504044</th>\n",
       "      <td>1</td>\n",
       "    </tr>\n",
       "    <tr>\n",
       "      <th>1504045</th>\n",
       "      <td>1</td>\n",
       "    </tr>\n",
       "    <tr>\n",
       "      <th>1504046</th>\n",
       "      <td>1</td>\n",
       "    </tr>\n",
       "    <tr>\n",
       "      <th>1504047</th>\n",
       "      <td>1</td>\n",
       "    </tr>\n",
       "    <tr>\n",
       "      <th>1504048</th>\n",
       "      <td>1</td>\n",
       "    </tr>\n",
       "  </tbody>\n",
       "</table>\n",
       "<p>1504049 rows × 1 columns</p>\n",
       "</div>"
      ],
      "text/plain": [
       "        Accident_Severity\n",
       "0                       2\n",
       "1                       2\n",
       "2                       2\n",
       "3                       2\n",
       "4                       2\n",
       "...                   ...\n",
       "1504044                 1\n",
       "1504045                 1\n",
       "1504046                 1\n",
       "1504047                 1\n",
       "1504048                 1\n",
       "\n",
       "[1504049 rows x 1 columns]"
      ]
     },
     "execution_count": 14,
     "metadata": {},
     "output_type": "execute_result"
    }
   ],
   "source": [
    "y"
   ]
  },
  {
   "cell_type": "code",
   "execution_count": 15,
   "id": "202f94f7",
   "metadata": {},
   "outputs": [],
   "source": [
    "from imblearn.over_sampling import SMOTE\n",
    "from sklearn.ensemble import RandomForestClassifier\n",
    "from sklearn.model_selection import train_test_split\n",
    "\n",
    "\n",
    "\n",
    "# Oversample the minority class using SMOTE\n",
    "smote = SMOTE()\n",
    "X_oversampled, y_oversampled = smote.fit_resample(X, y)\n",
    "\n",
    "# Split the oversampled dataset into training and test sets\n",
    "X_train, X_test, y_train, y_test = train_test_split(X_oversampled, y_oversampled, test_size=0.2)\n",
    "\n",
    "# Train a Random Forest model on the training set\n",
    "model = RandomForestClassifier()\n",
    "model.fit(X_train, y_train)\n",
    "\n",
    "# Use the model to make predictions on the test set\n",
    "predictions = model.predict(X_test)"
   ]
  },
  {
   "cell_type": "code",
   "execution_count": 16,
   "id": "2a9b5606",
   "metadata": {},
   "outputs": [
    {
     "data": {
      "text/plain": [
       "0.4461717130685665"
      ]
     },
     "execution_count": 16,
     "metadata": {},
     "output_type": "execute_result"
    }
   ],
   "source": [
    "accuracy_score(y_test, predictions)"
   ]
  },
  {
   "cell_type": "code",
   "execution_count": null,
   "id": "a19f4a89",
   "metadata": {},
   "outputs": [],
   "source": []
  },
  {
   "cell_type": "code",
   "execution_count": null,
   "id": "10127a83",
   "metadata": {},
   "outputs": [],
   "source": []
  },
  {
   "cell_type": "code",
   "execution_count": 28,
   "id": "c87c4265",
   "metadata": {},
   "outputs": [],
   "source": [
    "from collections import Counter\n",
    "\n",
    "import numpy as np\n",
    "\n",
    "from sklearn.metrics import precision_score, recall_score, classification_report, roc_curve\n",
    "from sklearn.ensemble import RandomForestClassifier\n",
    "from sklearn.datasets import make_classification\n"
   ]
  },
  {
   "cell_type": "code",
   "execution_count": 22,
   "id": "646cfbd1",
   "metadata": {},
   "outputs": [],
   "source": [
    "X_train, X_test, y_train, y_test = train_test_split(X, y, test_size=0.2,random_state=np.random.randint(100)) # 70% training and 30% test\n"
   ]
  },
  {
   "cell_type": "code",
   "execution_count": 23,
   "id": "8e8c1f81",
   "metadata": {},
   "outputs": [],
   "source": [
    "#Create a Gaussian Classifier\n",
    "clf=RandomForestClassifier(n_estimators=100)\n",
    "\n",
    "#Train the model using the training sets y_pred=clf.predict(X_test)\n",
    "clf.fit(X_train,y_train)\n",
    "\n",
    "y_pred=clf.predict(X_test)"
   ]
  },
  {
   "cell_type": "code",
   "execution_count": 24,
   "id": "cebfea5f",
   "metadata": {},
   "outputs": [
    {
     "name": "stdout",
     "output_type": "stream",
     "text": [
      "Accuracy: 0.8500482031847345\n"
     ]
    }
   ],
   "source": [
    "#Import scikit-learn metrics module for accuracy calculation\n",
    "from sklearn import metrics\n",
    "# Model Accuracy, how often is the classifier correct?\n",
    "print(\"Accuracy:\",metrics.accuracy_score(y_test, y_pred))"
   ]
  },
  {
   "cell_type": "code",
   "execution_count": 34,
   "id": "7b7917ea",
   "metadata": {},
   "outputs": [],
   "source": [
    "from sklearn.model_selection import RandomizedSearchCV, StratifiedKFold\n",
    "from imblearn.over_sampling import SMOTE\n",
    "from imblearn.pipeline import make_pipeline\n",
    "smote = SMOTE()\n",
    "model = RandomForestClassifier()\n",
    "\n",
    "pipeline = make_pipeline(smote, model)"
   ]
  },
  {
   "cell_type": "code",
   "execution_count": 35,
   "id": "3b057c62",
   "metadata": {},
   "outputs": [],
   "source": [
    "data_x=pd.DataFrame(Accidents_class.iloc[:,:-1])\n",
    "data_y=pd.DataFrame(Accidents_class.iloc[:,-1])"
   ]
  },
  {
   "cell_type": "code",
   "execution_count": 38,
   "id": "82fe17e9",
   "metadata": {},
   "outputs": [
    {
     "name": "stdout",
     "output_type": "stream",
     "text": [
      "Best Tuning F1 Score: nan\n",
      "Best Tuning Params:   {'n_estimators': 100}\n"
     ]
    },
    {
     "ename": "ValueError",
     "evalue": "too many values to unpack (expected 4)",
     "output_type": "error",
     "traceback": [
      "\u001b[1;31m---------------------------------------------------------------------------\u001b[0m",
      "\u001b[1;31mValueError\u001b[0m                                Traceback (most recent call last)",
      "Input \u001b[1;32mIn [38]\u001b[0m, in \u001b[0;36m<cell line: 37>\u001b[1;34m()\u001b[0m\n\u001b[0;32m     34\u001b[0m accuracy \u001b[38;5;241m=\u001b[39m best_model\u001b[38;5;241m.\u001b[39mscore(test_x, test_y)\n\u001b[0;32m     36\u001b[0m test_pred \u001b[38;5;241m=\u001b[39m best_model\u001b[38;5;241m.\u001b[39mpredict(test_x)\n\u001b[1;32m---> 37\u001b[0m tn, fp, fn, tp \u001b[38;5;241m=\u001b[39m confusion_matrix(test_y, test_pred)\u001b[38;5;241m.\u001b[39mravel()\n\u001b[0;32m     38\u001b[0m conf_mat \u001b[38;5;241m=\u001b[39m pd\u001b[38;5;241m.\u001b[39mDataFrame(\n\u001b[0;32m     39\u001b[0m     {\u001b[38;5;124m\"\u001b[39m\u001b[38;5;124mModel (0)\u001b[39m\u001b[38;5;124m\"\u001b[39m: [tn, fn], \u001b[38;5;124m\"\u001b[39m\u001b[38;5;124mModel (1)\u001b[39m\u001b[38;5;124m\"\u001b[39m: [fp, tp]}, index\u001b[38;5;241m=\u001b[39m[\u001b[38;5;124m\"\u001b[39m\u001b[38;5;124mActual (0)\u001b[39m\u001b[38;5;124m\"\u001b[39m, \u001b[38;5;124m\"\u001b[39m\u001b[38;5;124mActual (1)\u001b[39m\u001b[38;5;124m\"\u001b[39m],\n\u001b[0;32m     40\u001b[0m )\n\u001b[0;32m     42\u001b[0m classif_report \u001b[38;5;241m=\u001b[39m classification_report(test_y, test_pred)\n",
      "\u001b[1;31mValueError\u001b[0m: too many values to unpack (expected 4)"
     ]
    }
   ],
   "source": [
    "from imblearn.pipeline import Pipeline\n",
    "from sklearn.metrics import confusion_matrix\n",
    "train_x, test_x, train_y, test_y = train_test_split(\n",
    "    data_x, data_y, test_size=0.3, shuffle=True\n",
    ")\n",
    "\n",
    "# HYPERPARAMETER TUNING\n",
    "\n",
    "pipeline = Pipeline([(\"smote\", SMOTE()), (\"rf\", RandomForestClassifier())])\n",
    "\n",
    "grid = {\n",
    "    \"rf__n_estimators\": [100],\n",
    "}\n",
    "\n",
    "kf = StratifiedKFold(n_splits=5)\n",
    "\n",
    "# Just applies smote to the k-1 training folds, and not to the validation fold\n",
    "search = RandomizedSearchCV(\n",
    "    pipeline, grid, scoring=\"f1\", n_iter=1, n_jobs=-1, cv=kf\n",
    ").fit(train_x, train_y)\n",
    "\n",
    "best_score = search.best_score_\n",
    "best_params = {\n",
    "    key.replace(\"rf__\", \"\"): value for key, value in search.best_params_.items()\n",
    "}\n",
    "\n",
    "print(f\"Best Tuning F1 Score: {best_score}\")\n",
    "print(f\"Best Tuning Params:   {best_params}\")\n",
    "\n",
    "# EVALUTING BEST MODEL ON TEST SET\n",
    "\n",
    "best_model = RandomForestClassifier(**best_params).fit(train_x, train_y)\n",
    "\n",
    "accuracy = best_model.score(test_x, test_y)\n",
    "\n",
    "test_pred = best_model.predict(test_x)\n",
    "tn, fp, fn, tp = confusion_matrix(test_y, test_pred).ravel()\n",
    "conf_mat = pd.DataFrame(\n",
    "    {\"Model (0)\": [tn, fn], \"Model (1)\": [fp, tp]}, index=[\"Actual (0)\", \"Actual (1)\"],\n",
    ")\n",
    "\n",
    "classif_report = classification_report(test_y, test_pred)\n",
    "\n",
    "feature_importance = pd.DataFrame(\n",
    "    {\"feature\": list(train_x.columns), \"importance\": best_model.feature_importances_}\n",
    ").sort_values(\"importance\", ascending=False)\n",
    "\n",
    "print(f\"Accuracy: {round(accuracy * 100, 2)}%\")\n",
    "print(\"\")\n",
    "\n",
    "print(conf_mat)\n",
    "print(\"\")\n",
    "\n",
    "print(classif_report)\n",
    "print(\"\")\n",
    "\n",
    "pd.set_option(\"display.max_rows\", len(feature_importance))\n",
    "print(feature_importance)\n",
    "pd.reset_option(\"display.max_rows\")"
   ]
  },
  {
   "cell_type": "code",
   "execution_count": 36,
   "id": "276f50ab",
   "metadata": {},
   "outputs": [
    {
     "name": "stdout",
     "output_type": "stream",
     "text": [
      "(2688072, 5)\n",
      "(2688072,)\n"
     ]
    }
   ],
   "source": [
    "print(train_x.shape)\n",
    "print(train_y.shape)"
   ]
  },
  {
   "cell_type": "code",
   "execution_count": 33,
   "id": "41234839",
   "metadata": {},
   "outputs": [],
   "source": [
    "random_forest_classifier = RandomForestClassifier(random_state=42)\n",
    "random_forest_classifier.fit(train_x,train_y)\n",
    "# Testing the model\n",
    "y_pred=random_forest_classifier.predict(X_test)\n"
   ]
  },
  {
   "cell_type": "code",
   "execution_count": 34,
   "id": "51c5b58a",
   "metadata": {},
   "outputs": [
    {
     "data": {
      "text/plain": [
       "0.5710246142246695"
      ]
     },
     "execution_count": 34,
     "metadata": {},
     "output_type": "execute_result"
    }
   ],
   "source": [
    "# Model evaluvation\n",
    "accuracy_score(y_test, y_pred)"
   ]
  },
  {
   "cell_type": "code",
   "execution_count": 13,
   "id": "3bf4989a",
   "metadata": {},
   "outputs": [],
   "source": [
    "from joblib import  dump"
   ]
  },
  {
   "cell_type": "code",
   "execution_count": 14,
   "id": "53e1fac1",
   "metadata": {},
   "outputs": [
    {
     "ename": "FileNotFoundError",
     "evalue": "[Errno 2] No such file or directory: './../savedModeles/model.joblib'",
     "output_type": "error",
     "traceback": [
      "\u001b[1;31m---------------------------------------------------------------------------\u001b[0m",
      "\u001b[1;31mFileNotFoundError\u001b[0m                         Traceback (most recent call last)",
      "Input \u001b[1;32mIn [14]\u001b[0m, in \u001b[0;36m<cell line: 1>\u001b[1;34m()\u001b[0m\n\u001b[1;32m----> 1\u001b[0m \u001b[43mdump\u001b[49m\u001b[43m(\u001b[49m\u001b[43mrandom_forest_classifier\u001b[49m\u001b[43m,\u001b[49m\u001b[38;5;124;43m'\u001b[39;49m\u001b[38;5;124;43m./../savedModeles/model.joblib\u001b[39;49m\u001b[38;5;124;43m'\u001b[39;49m\u001b[43m)\u001b[49m\n",
      "File \u001b[1;32m~\\anaconda3\\lib\\site-packages\\joblib\\numpy_pickle.py:481\u001b[0m, in \u001b[0;36mdump\u001b[1;34m(value, filename, compress, protocol, cache_size)\u001b[0m\n\u001b[0;32m    479\u001b[0m         NumpyPickler(f, protocol\u001b[38;5;241m=\u001b[39mprotocol)\u001b[38;5;241m.\u001b[39mdump(value)\n\u001b[0;32m    480\u001b[0m \u001b[38;5;28;01melif\u001b[39;00m is_filename:\n\u001b[1;32m--> 481\u001b[0m     \u001b[38;5;28;01mwith\u001b[39;00m \u001b[38;5;28;43mopen\u001b[39;49m\u001b[43m(\u001b[49m\u001b[43mfilename\u001b[49m\u001b[43m,\u001b[49m\u001b[43m \u001b[49m\u001b[38;5;124;43m'\u001b[39;49m\u001b[38;5;124;43mwb\u001b[39;49m\u001b[38;5;124;43m'\u001b[39;49m\u001b[43m)\u001b[49m \u001b[38;5;28;01mas\u001b[39;00m f:\n\u001b[0;32m    482\u001b[0m         NumpyPickler(f, protocol\u001b[38;5;241m=\u001b[39mprotocol)\u001b[38;5;241m.\u001b[39mdump(value)\n\u001b[0;32m    483\u001b[0m \u001b[38;5;28;01melse\u001b[39;00m:\n",
      "\u001b[1;31mFileNotFoundError\u001b[0m: [Errno 2] No such file or directory: './../savedModeles/model.joblib'"
     ]
    }
   ],
   "source": [
    "dump(random_forest_classifier,'./../savedModeles/model.joblib')"
   ]
  },
  {
   "cell_type": "code",
   "execution_count": null,
   "id": "dba0213a",
   "metadata": {},
   "outputs": [],
   "source": []
  }
 ],
 "metadata": {
  "kernelspec": {
   "display_name": "Python 3 (ipykernel)",
   "language": "python",
   "name": "python3"
  },
  "language_info": {
   "codemirror_mode": {
    "name": "ipython",
    "version": 3
   },
   "file_extension": ".py",
   "mimetype": "text/x-python",
   "name": "python",
   "nbconvert_exporter": "python",
   "pygments_lexer": "ipython3",
   "version": "3.9.12"
  }
 },
 "nbformat": 4,
 "nbformat_minor": 5
}
