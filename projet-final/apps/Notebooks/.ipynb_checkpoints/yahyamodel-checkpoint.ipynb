{
 "cells": [
  {
   "cell_type": "code",
   "execution_count": 1,
   "id": "c0fc1c59",
   "metadata": {},
   "outputs": [],
   "source": [
    "import pyodbc\n",
    "import pandas as pd\n",
    "import numpy as np\n",
    "import matplotlib as mpl, matplotlib.pyplot as plt\n",
    "import seaborn as sns\n",
    "from sklearn import metrics\n",
    "from sklearn.metrics import classification_report\n",
    "import warnings\n",
    "warnings.filterwarnings('ignore')"
   ]
  },
  {
   "cell_type": "code",
   "execution_count": 2,
   "id": "65211677",
   "metadata": {},
   "outputs": [],
   "source": [
    "DWConnect = pyodbc.connect('Driver={SQL Server};'\n",
    "                      'Server=SAMET;'\n",
    "                      'Database=Projet3;'\n",
    "                      'Trusted_Connection=yes;')\n",
    "cursor_Dim = DWConnect.cursor()"
   ]
  },
  {
   "cell_type": "code",
   "execution_count": 3,
   "id": "d880ac32",
   "metadata": {},
   "outputs": [],
   "source": [
    "SQL_Query = pd.read_sql_query('''select * FROM [dbo].[DimConditions]''', DWConnect)\n",
    "DimConditions = pd.DataFrame(SQL_Query)\n",
    "SQL_Query = pd.read_sql_query('''select * FROM [dbo].[DimTypeAccidentSeverity]''', DWConnect)\n",
    "DimTypeAccidentSeverity = pd.DataFrame(SQL_Query)\n",
    "SQL_Query = pd.read_sql_query('''select * FROM [dbo].[FactAccident]''', DWConnect)\n",
    "FactAccident = pd.DataFrame(SQL_Query)"
   ]
  },
  {
   "cell_type": "code",
   "execution_count": 4,
   "id": "b54db275",
   "metadata": {},
   "outputs": [],
   "source": [
    "def decomposefact(fact,liste_1,liste_2):\n",
    "    for i,j in enumerate(liste_1):\n",
    "        fact= pd.merge(fact,j,on=liste_2[i])\n",
    "    return fact"
   ]
  },
  {
   "cell_type": "code",
   "execution_count": 5,
   "id": "91cc9332",
   "metadata": {},
   "outputs": [],
   "source": [
    "listetable=[DimConditions,DimTypeAccidentSeverity]\n",
    "listeid=['code_condition','code_severity']"
   ]
  },
  {
   "cell_type": "code",
   "execution_count": 6,
   "id": "b5fb8dcb",
   "metadata": {},
   "outputs": [],
   "source": [
    "Accidents=decomposefact(FactAccident,listetable,listeid)"
   ]
  },
  {
   "cell_type": "code",
   "execution_count": 7,
   "id": "7a3d4cce",
   "metadata": {},
   "outputs": [],
   "source": [
    "from sklearn.preprocessing import LabelEncoder\n",
    "from sklearn.model_selection import train_test_split\n",
    "from sklearn.metrics import accuracy_score\n",
    "from sklearn.ensemble import RandomForestClassifier"
   ]
  },
  {
   "cell_type": "code",
   "execution_count": 8,
   "id": "006b8778",
   "metadata": {},
   "outputs": [],
   "source": [
    "Accidents_class = Accidents\n",
    "Accidents_class=Accidents_class[[ 'Light_Conditions'\n",
    "      ,'Weather_Conditions'\n",
    "      ,'Road_Surface_Conditions'\n",
    "      ,'Special_Conditions_at_Site','Number_of_Vehicles','Accident_Severity']]\n",
    "le = LabelEncoder()\n",
    "\n",
    "for i in Accidents_class.columns:\n",
    "    if i != 'Accident_Severity':\n",
    "        Accidents_class[i] = le.fit_transform(Accidents_class[i])"
   ]
  },
  {
   "cell_type": "code",
   "execution_count": 9,
   "id": "ab1d8b80",
   "metadata": {},
   "outputs": [],
   "source": [
    "train_frame=Accidents_class\n",
    "test_frame=Accidents_class\n",
    "X_train = train_frame.drop(\"Accident_Severity\",axis=1)\n",
    "X_test = test_frame.drop(\"Accident_Severity\",axis=1)\n",
    "y_train = train_frame[\"Accident_Severity\"]\n",
    "y_test = test_frame[\"Accident_Severity\"]"
   ]
  },
  {
   "cell_type": "code",
   "execution_count": 10,
   "id": "2516971e",
   "metadata": {},
   "outputs": [],
   "source": [
    "model = RandomForestClassifier()\n",
    "model.fit(X_train,y_train)\n",
    "# Testing the model\n",
    "y_pred=model.predict(X_test)\n"
   ]
  },
  {
   "cell_type": "code",
   "execution_count": 11,
   "id": "6995c767",
   "metadata": {},
   "outputs": [
    {
     "data": {
      "text/plain": [
       "0.8512402189024427"
      ]
     },
     "execution_count": 11,
     "metadata": {},
     "output_type": "execute_result"
    }
   ],
   "source": [
    "# Model evaluvation\n",
    "accuracy_score(y_test, y_pred)"
   ]
  },
  {
   "cell_type": "code",
   "execution_count": 12,
   "id": "80e6b333",
   "metadata": {},
   "outputs": [],
   "source": [
    "from joblib import  dump"
   ]
  },
  {
   "cell_type": "code",
   "execution_count": 13,
   "id": "ad84cc4b",
   "metadata": {},
   "outputs": [
    {
     "data": {
      "text/plain": [
       "['./../savedModeles/model.joblib']"
      ]
     },
     "execution_count": 13,
     "metadata": {},
     "output_type": "execute_result"
    }
   ],
   "source": [
    "dump(model,'./../savedModeles/model.joblib')"
   ]
  },
  {
   "cell_type": "code",
   "execution_count": null,
   "id": "b0244c05",
   "metadata": {},
   "outputs": [],
   "source": []
  }
 ],
 "metadata": {
  "kernelspec": {
   "display_name": "Python 3 (ipykernel)",
   "language": "python",
   "name": "python3"
  },
  "language_info": {
   "codemirror_mode": {
    "name": "ipython",
    "version": 3
   },
   "file_extension": ".py",
   "mimetype": "text/x-python",
   "name": "python",
   "nbconvert_exporter": "python",
   "pygments_lexer": "ipython3",
   "version": "3.9.12"
  }
 },
 "nbformat": 4,
 "nbformat_minor": 5
}
